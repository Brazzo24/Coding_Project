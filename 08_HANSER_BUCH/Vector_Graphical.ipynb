{
 "cells": [
  {
   "cell_type": "code",
   "execution_count": 2,
   "id": "e2049718",
   "metadata": {},
   "outputs": [],
   "source": [
    "import vpython as vp"
   ]
  },
  {
   "cell_type": "code",
   "execution_count": 3,
   "id": "09dc73ee",
   "metadata": {},
   "outputs": [],
   "source": [
    "def multi_input(text):\n",
    "    s = input(text)\n",
    "    Ist1 = s.split(\",\")\n",
    "    Ist2 = [float(i) for i in Ist1]\n",
    "    return Ist2"
   ]
  },
  {
   "cell_type": "code",
   "execution_count": 17,
   "id": "6b8a3539",
   "metadata": {},
   "outputs": [
    {
     "name": "stdout",
     "output_type": "stream",
     "text": [
      "Erster Vektor:1,1,1\n",
      "Zweiter Vektor:2,1,2\n"
     ]
    }
   ],
   "source": [
    "a = multi_input(\"Erster Vektor:\")\n",
    "b = multi_input(\"Zweiter Vektor:\")\n",
    "u = b[0]-a[0]\n",
    "v = b[1]-a[1]\n",
    "w = b[2]-a[2]\n",
    "vp.scene.autoscale = True\n",
    "vp.scene.background = vp.color.white\n",
    "vp.arrow(axis=vp.vector(a[0],a[1], a[2]), color=vp.color.blue)\n",
    "vp.arrow(axis=vp.vector(b[0],b[1], b[2]), color=vp.color.red)\n",
    "vp.arrow(pos=vp.vector(a[0],a[1],a[2]),axis=vp.vector(u,v,w), color=vp.color.yellow)\n"
   ]
  },
  {
   "cell_type": "code",
   "execution_count": null,
   "id": "45f3514b",
   "metadata": {},
   "outputs": [],
   "source": []
  },
  {
   "cell_type": "code",
   "execution_count": null,
   "id": "22cb158b",
   "metadata": {},
   "outputs": [],
   "source": []
  }
 ],
 "metadata": {
  "kernelspec": {
   "display_name": "Python 3",
   "language": "python",
   "name": "python3"
  },
  "language_info": {
   "codemirror_mode": {
    "name": "ipython",
    "version": 3
   },
   "file_extension": ".py",
   "mimetype": "text/x-python",
   "name": "python",
   "nbconvert_exporter": "python",
   "pygments_lexer": "ipython3",
   "version": "3.8.8"
  }
 },
 "nbformat": 4,
 "nbformat_minor": 5
}

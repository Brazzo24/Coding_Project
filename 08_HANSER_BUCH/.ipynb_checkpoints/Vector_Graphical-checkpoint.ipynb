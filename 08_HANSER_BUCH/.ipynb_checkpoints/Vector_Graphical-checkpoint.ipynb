{
 "cells": [
  {
   "cell_type": "code",
   "execution_count": 2,
   "id": "d09083cd",
   "metadata": {},
   "outputs": [],
   "source": [
    "import vpython as vp"
   ]
  },
  {
   "cell_type": "code",
   "execution_count": 3,
   "id": "b339cddf",
   "metadata": {},
   "outputs": [],
   "source": [
    "def multi_input(text):\n",
    "    s = input(text)\n",
    "    Ist1 = s.split(\",\")\n",
    "    Ist2 = [float(i) for i in Ist1]\n",
    "    return Ist2"
   ]
  },
  {
   "cell_type": "code",
   "execution_count": 4,
   "id": "7cdefbff",
   "metadata": {},
   "outputs": [
    {
     "name": "stdout",
     "output_type": "stream",
     "text": [
      "Zahlen eingeben: 12,34.5,45,100.23\n"
     ]
    }
   ],
   "source": [
    "a = multi_input(\"Zahlen eingeben: \")"
   ]
  },
  {
   "cell_type": "code",
   "execution_count": 5,
   "id": "bed30cd3",
   "metadata": {},
   "outputs": [
    {
     "data": {
      "text/plain": [
       "[12.0, 34.5, 45.0, 100.23]"
      ]
     },
     "execution_count": 5,
     "metadata": {},
     "output_type": "execute_result"
    }
   ],
   "source": [
    "a"
   ]
  },
  {
   "cell_type": "code",
   "execution_count": null,
   "id": "95a01e58",
   "metadata": {},
   "outputs": [],
   "source": []
  },
  {
   "cell_type": "code",
   "execution_count": null,
   "id": "aa32ce35",
   "metadata": {},
   "outputs": [],
   "source": []
  }
 ],
 "metadata": {
  "kernelspec": {
   "display_name": "Python 3",
   "language": "python",
   "name": "python3"
  },
  "language_info": {
   "codemirror_mode": {
    "name": "ipython",
    "version": 3
   },
   "file_extension": ".py",
   "mimetype": "text/x-python",
   "name": "python",
   "nbconvert_exporter": "python",
   "pygments_lexer": "ipython3",
   "version": "3.8.8"
  }
 },
 "nbformat": 4,
 "nbformat_minor": 5
}

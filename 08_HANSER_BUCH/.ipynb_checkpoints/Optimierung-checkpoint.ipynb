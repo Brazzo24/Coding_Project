{
 "cells": [
  {
   "cell_type": "code",
   "execution_count": 1,
   "id": "d0688d72",
   "metadata": {},
   "outputs": [],
   "source": [
    "from scipy.optimize import minimize\n",
    "import numpy as np"
   ]
  },
  {
   "cell_type": "code",
   "execution_count": 4,
   "id": "11ce1fea",
   "metadata": {},
   "outputs": [
    {
     "name": "stdout",
     "output_type": "stream",
     "text": [
      "Zielfunktion (Anfangswert):  1256.6370614359173\n",
      "Nebenbedingungen (Anfangswert):  2141.5926535897934\n",
      "\n",
      "     fun: 553.5810445824392\n",
      "     jac: array([136.20087433,  34.0502243 ])\n",
      " message: 'Optimization terminated successfully'\n",
      "    nfev: 60\n",
      "     nit: 19\n",
      "    njev: 19\n",
      "  status: 0\n",
      " success: True\n",
      "       x: array([ 5.41926064, 10.83852164])\n"
     ]
    }
   ],
   "source": [
    "def A(x):\n",
    "    \"Zielfunktion\"\n",
    "    r=x[0]\n",
    "    h=x[1]\n",
    "    return 2*np.pi*r*r+2*np.pi*r*h\n",
    "def V(x):\n",
    "    \"Nebenbedingungen\"\n",
    "    r=x[0]\n",
    "    h=x[1]\n",
    "    return np.pi*r*r*h-1000.0\n",
    "\n",
    "r0 = 10.0; h0=10.0\n",
    "x0 = [r0,h0]\n",
    "print(\"Zielfunktion (Anfangswert): \",A(x0))\n",
    "print(\"Nebenbedingungen (Anfangswert): \", V(x0))\n",
    "print()\n",
    "\n",
    "g = (1.0, 30.0)\n",
    "B = [g, g]\n",
    "\n",
    "NebenBed = {'type':'eq','fun':V}\n",
    "cons = [NebenBed]\n",
    "\n",
    "ergebnis = minimize(A,x0,method='SLSQP', bounds=B,constraints=cons)\n",
    "print(ergebnis)"
   ]
  }
 ],
 "metadata": {
  "kernelspec": {
   "display_name": "Python 3",
   "language": "python",
   "name": "python3"
  },
  "language_info": {
   "codemirror_mode": {
    "name": "ipython",
    "version": 3
   },
   "file_extension": ".py",
   "mimetype": "text/x-python",
   "name": "python",
   "nbconvert_exporter": "python",
   "pygments_lexer": "ipython3",
   "version": "3.8.8"
  }
 },
 "nbformat": 4,
 "nbformat_minor": 5
}

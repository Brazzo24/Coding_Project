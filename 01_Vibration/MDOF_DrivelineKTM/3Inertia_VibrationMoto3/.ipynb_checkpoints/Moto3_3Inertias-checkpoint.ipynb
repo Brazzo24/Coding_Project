{
 "cells": [
  {
   "cell_type": "code",
   "execution_count": 3,
   "id": "8fcf313c",
   "metadata": {},
   "outputs": [],
   "source": [
    "import numpy as np\n",
    "import sympy as smp\n",
    "from scipy.integrate import odeint\n",
    "import matplotlib.pyplot as plt\n",
    "from matplotlib import animation\n",
    "from mpl_toolkits.mplot3d import Axes3D\n",
    "from matplotlib.animation import PillowWriter\n",
    "from sympy import *"
   ]
  },
  {
   "cell_type": "code",
   "execution_count": 4,
   "id": "573b840b",
   "metadata": {},
   "outputs": [],
   "source": [
    "t, I, k, c = smp.symbols('t I k C')"
   ]
  },
  {
   "cell_type": "code",
   "execution_count": 5,
   "id": "60bdbc9f",
   "metadata": {},
   "outputs": [],
   "source": [
    "the1, the2, the3 = smp.symbols(r'\\theta_1, \\theta_2, \\theta_3', cls=smp.Function)\n",
    "the1 = the1(t)\n",
    "the1_d = smp.diff(the1, t)\n",
    "the1_dd = smp.diff(the1_d, t)\n",
    "\n",
    "the2 = the2(t)\n",
    "the2_d = smp.diff(the2, t)\n",
    "the2_dd = smp.diff(the2_d, t)\n",
    "\n",
    "the3 = the3(t)\n",
    "the3_d = smp.diff(the3, t)\n",
    "the3_dd = smp.diff(the3_d, t)"
   ]
  },
  {
   "cell_type": "code",
   "execution_count": 6,
   "id": "765b9f4e",
   "metadata": {},
   "outputs": [
    {
     "data": {
      "text/latex": [
       "$\\displaystyle \\theta_{1}{\\left(t \\right)}$"
      ],
      "text/plain": [
       "\\theta_1(t)"
      ]
     },
     "execution_count": 6,
     "metadata": {},
     "output_type": "execute_result"
    }
   ],
   "source": [
    "the1"
   ]
  },
  {
   "cell_type": "code",
   "execution_count": 7,
   "id": "aae53a1d",
   "metadata": {},
   "outputs": [
    {
     "data": {
      "text/latex": [
       "$\\displaystyle \\theta_{2}{\\left(t \\right)}$"
      ],
      "text/plain": [
       "\\theta_2(t)"
      ]
     },
     "execution_count": 7,
     "metadata": {},
     "output_type": "execute_result"
    }
   ],
   "source": [
    "the2"
   ]
  },
  {
   "cell_type": "code",
   "execution_count": 8,
   "id": "16e1577a",
   "metadata": {},
   "outputs": [
    {
     "data": {
      "text/latex": [
       "$\\displaystyle \\frac{d^{2}}{d t^{2}} \\theta_{1}{\\left(t \\right)}$"
      ],
      "text/plain": [
       "Derivative(\\theta_1(t), (t, 2))"
      ]
     },
     "execution_count": 8,
     "metadata": {},
     "output_type": "execute_result"
    }
   ],
   "source": [
    "the1_dd"
   ]
  },
  {
   "cell_type": "code",
   "execution_count": 12,
   "id": "ee202828",
   "metadata": {},
   "outputs": [
    {
     "data": {
      "text/latex": [
       "$\\displaystyle t$"
      ],
      "text/plain": [
       "t"
      ]
     },
     "execution_count": 12,
     "metadata": {},
     "output_type": "execute_result"
    }
   ],
   "source": [
    "t"
   ]
  },
  {
   "cell_type": "code",
   "execution_count": 8,
   "id": "1d15b1d6",
   "metadata": {},
   "outputs": [
    {
     "data": {
      "text/latex": [
       "$\\displaystyle \\frac{k \\theta_{1}{\\left(t \\right)}}{I}$"
      ],
      "text/plain": [
       "k*\\theta_1(t)/I"
      ]
     },
     "execution_count": 8,
     "metadata": {},
     "output_type": "execute_result"
    }
   ],
   "source": [
    "#Bewegungsgleichung Inertia 1\n",
    "the1_dd = k*the1/I \n",
    "the1_dd"
   ]
  },
  {
   "cell_type": "code",
   "execution_count": 9,
   "id": "8aefa97c",
   "metadata": {},
   "outputs": [
    {
     "data": {
      "text/latex": [
       "$\\displaystyle \\frac{k \\left(\\theta_{1}{\\left(t \\right)} - \\theta_{2}{\\left(t \\right)}\\right)}{I}$"
      ],
      "text/plain": [
       "k*(\\theta_1(t) - \\theta_2(t))/I"
      ]
     },
     "execution_count": 9,
     "metadata": {},
     "output_type": "execute_result"
    }
   ],
   "source": [
    "#Bewegungsgleichung Inertia 2\n",
    "the2_dd = k*(the1-the2)/I\n",
    "the2_dd"
   ]
  },
  {
   "cell_type": "code",
   "execution_count": 10,
   "id": "05dfcfde",
   "metadata": {},
   "outputs": [
    {
     "data": {
      "text/latex": [
       "$\\displaystyle \\frac{k \\theta_{3}{\\left(t \\right)}}{I}$"
      ],
      "text/plain": [
       "k*\\theta_3(t)/I"
      ]
     },
     "execution_count": 10,
     "metadata": {},
     "output_type": "execute_result"
    }
   ],
   "source": [
    "#Bewegungsgleichung Inertia 3\n",
    "the3_dd = k*the3/I \n",
    "the3_dd"
   ]
  },
  {
   "cell_type": "code",
   "execution_count": 11,
   "id": "1ba4e456",
   "metadata": {},
   "outputs": [],
   "source": [
    "#Bewegungsgleichungen zu Matrizen zusammenfuegen\n"
   ]
  },
  {
   "cell_type": "code",
   "execution_count": null,
   "id": "8df08fac",
   "metadata": {},
   "outputs": [],
   "source": []
  },
  {
   "cell_type": "code",
   "execution_count": 6,
   "id": "29a16d04",
   "metadata": {},
   "outputs": [],
   "source": [
    "I_m = Matrix([[I, 0, 0], [0, 2*I, 0], [0, 0, I]])"
   ]
  },
  {
   "cell_type": "code",
   "execution_count": 7,
   "id": "0d4841a9",
   "metadata": {},
   "outputs": [
    {
     "data": {
      "text/latex": [
       "$\\displaystyle \\left[\\begin{matrix}I & 0 & 0\\\\0 & 2 I & 0\\\\0 & 0 & I\\end{matrix}\\right]$"
      ],
      "text/plain": [
       "Matrix([\n",
       "[I,   0, 0],\n",
       "[0, 2*I, 0],\n",
       "[0,   0, I]])"
      ]
     },
     "execution_count": 7,
     "metadata": {},
     "output_type": "execute_result"
    }
   ],
   "source": [
    "I_m"
   ]
  },
  {
   "cell_type": "code",
   "execution_count": 4,
   "id": "18cc0dbd",
   "metadata": {},
   "outputs": [],
   "source": [
    "k = Matrix([[k, -k, k],[-k, k, -k],[k,-k,k]])"
   ]
  },
  {
   "cell_type": "code",
   "execution_count": 5,
   "id": "95ba8932",
   "metadata": {},
   "outputs": [
    {
     "data": {
      "text/latex": [
       "$\\displaystyle \\left[\\begin{matrix}k & - k & k\\\\- k & k & - k\\\\k & - k & k\\end{matrix}\\right]$"
      ],
      "text/plain": [
       "Matrix([\n",
       "[ k, -k,  k],\n",
       "[-k,  k, -k],\n",
       "[ k, -k,  k]])"
      ]
     },
     "execution_count": 5,
     "metadata": {},
     "output_type": "execute_result"
    }
   ],
   "source": [
    "k"
   ]
  },
  {
   "cell_type": "code",
   "execution_count": 31,
   "id": "f4581f24",
   "metadata": {},
   "outputs": [
    {
     "ename": "NameError",
     "evalue": "name 'M' is not defined",
     "output_type": "error",
     "traceback": [
      "\u001b[1;31m---------------------------------------------------------------------------\u001b[0m",
      "\u001b[1;31mNameError\u001b[0m                                 Traceback (most recent call last)",
      "\u001b[1;32m<ipython-input-31-20b70021692e>\u001b[0m in \u001b[0;36m<module>\u001b[1;34m\u001b[0m\n\u001b[1;32m----> 1\u001b[1;33m \u001b[0mM\u001b[0m\u001b[1;33m.\u001b[0m\u001b[0mdet\u001b[0m\u001b[1;33m(\u001b[0m\u001b[1;33m)\u001b[0m\u001b[1;33m\u001b[0m\u001b[1;33m\u001b[0m\u001b[0m\n\u001b[0m",
      "\u001b[1;31mNameError\u001b[0m: name 'M' is not defined"
     ]
    }
   ],
   "source": [
    "M.det()"
   ]
  },
  {
   "cell_type": "code",
   "execution_count": 32,
   "id": "b93a19bd",
   "metadata": {},
   "outputs": [
    {
     "ename": "NameError",
     "evalue": "name 'M' is not defined",
     "output_type": "error",
     "traceback": [
      "\u001b[1;31m---------------------------------------------------------------------------\u001b[0m",
      "\u001b[1;31mNameError\u001b[0m                                 Traceback (most recent call last)",
      "\u001b[1;32m<ipython-input-32-1b9fc5a97195>\u001b[0m in \u001b[0;36m<module>\u001b[1;34m\u001b[0m\n\u001b[1;32m----> 1\u001b[1;33m \u001b[0mM\u001b[0m\u001b[1;33m.\u001b[0m\u001b[0meigenvals\u001b[0m\u001b[1;33m(\u001b[0m\u001b[1;33m)\u001b[0m\u001b[1;33m\u001b[0m\u001b[1;33m\u001b[0m\u001b[0m\n\u001b[0m",
      "\u001b[1;31mNameError\u001b[0m: name 'M' is not defined"
     ]
    }
   ],
   "source": [
    "M.eigenvals()"
   ]
  },
  {
   "cell_type": "code",
   "execution_count": 34,
   "id": "cc038f8d",
   "metadata": {},
   "outputs": [
    {
     "ename": "NameError",
     "evalue": "name 'M' is not defined",
     "output_type": "error",
     "traceback": [
      "\u001b[1;31m---------------------------------------------------------------------------\u001b[0m",
      "\u001b[1;31mNameError\u001b[0m                                 Traceback (most recent call last)",
      "\u001b[1;32m<ipython-input-34-e502cc27d0bf>\u001b[0m in \u001b[0;36m<module>\u001b[1;34m\u001b[0m\n\u001b[0;32m      1\u001b[0m \u001b[0mlamda\u001b[0m \u001b[1;33m=\u001b[0m \u001b[0msymbols\u001b[0m\u001b[1;33m(\u001b[0m\u001b[1;34m'lamda'\u001b[0m\u001b[1;33m)\u001b[0m\u001b[1;33m\u001b[0m\u001b[1;33m\u001b[0m\u001b[0m\n\u001b[1;32m----> 2\u001b[1;33m \u001b[0mp\u001b[0m \u001b[1;33m=\u001b[0m \u001b[0mM\u001b[0m\u001b[1;33m.\u001b[0m\u001b[0mcharpoly\u001b[0m\u001b[1;33m(\u001b[0m\u001b[0mlamda\u001b[0m\u001b[1;33m)\u001b[0m\u001b[1;33m\u001b[0m\u001b[1;33m\u001b[0m\u001b[0m\n\u001b[0m\u001b[0;32m      3\u001b[0m \u001b[0mfactor\u001b[0m\u001b[1;33m(\u001b[0m\u001b[0mp\u001b[0m\u001b[1;33m.\u001b[0m\u001b[0mas_expr\u001b[0m\u001b[1;33m(\u001b[0m\u001b[1;33m)\u001b[0m\u001b[1;33m)\u001b[0m\u001b[1;33m\u001b[0m\u001b[1;33m\u001b[0m\u001b[0m\n",
      "\u001b[1;31mNameError\u001b[0m: name 'M' is not defined"
     ]
    }
   ],
   "source": [
    "lamda = symbols('lamda')\n",
    "p = M.charpoly(lamda)\n",
    "factor(p.as_expr())"
   ]
  }
 ],
 "metadata": {
  "kernelspec": {
   "display_name": "Python 3",
   "language": "python",
   "name": "python3"
  },
  "language_info": {
   "codemirror_mode": {
    "name": "ipython",
    "version": 3
   },
   "file_extension": ".py",
   "mimetype": "text/x-python",
   "name": "python",
   "nbconvert_exporter": "python",
   "pygments_lexer": "ipython3",
   "version": "3.8.8"
  }
 },
 "nbformat": 4,
 "nbformat_minor": 5
}

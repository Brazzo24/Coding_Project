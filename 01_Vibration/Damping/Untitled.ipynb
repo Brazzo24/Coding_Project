{
 "cells": [
  {
   "cell_type": "code",
   "execution_count": 2,
   "id": "80d40532",
   "metadata": {},
   "outputs": [],
   "source": [
    "import numpy as np\n",
    "import sympy as smp\n",
    "from scipy.integrate import odeint\n",
    "import matplotlib as plt\n",
    "from sympy import *"
   ]
  },
  {
   "cell_type": "code",
   "execution_count": 8,
   "id": "1b974b6e",
   "metadata": {},
   "outputs": [],
   "source": [
    "#variables\n",
    "I = 2.0\n",
    "k = 2.0\n",
    "c = 0.0 #critical damping = 2*sqrt(I*k)\n",
    "\n",
    "T0 = 0.0\n",
    "delta_t = 0.1\n",
    "omega = 1.0\n",
    "time = np.arange(0.0, 20.0, delta_t)"
   ]
  },
  {
   "cell_type": "code",
   "execution_count": 4,
   "id": "283ade9a",
   "metadata": {},
   "outputs": [],
   "source": [
    "#initial state\n",
    "y = np.a"
   ]
  },
  {
   "cell_type": "code",
   "execution_count": 5,
   "id": "08269074",
   "metadata": {},
   "outputs": [],
   "source": [
    "#time-stepping solution"
   ]
  },
  {
   "cell_type": "code",
   "execution_count": 6,
   "id": "5ca534a8",
   "metadata": {},
   "outputs": [],
   "source": [
    "#plot the result"
   ]
  },
  {
   "cell_type": "code",
   "execution_count": null,
   "id": "60f7853c",
   "metadata": {},
   "outputs": [],
   "source": []
  }
 ],
 "metadata": {
  "kernelspec": {
   "display_name": "Python 3",
   "language": "python",
   "name": "python3"
  },
  "language_info": {
   "codemirror_mode": {
    "name": "ipython",
    "version": 3
   },
   "file_extension": ".py",
   "mimetype": "text/x-python",
   "name": "python",
   "nbconvert_exporter": "python",
   "pygments_lexer": "ipython3",
   "version": "3.8.8"
  }
 },
 "nbformat": 4,
 "nbformat_minor": 5
}

{
 "cells": [
  {
   "cell_type": "markdown",
   "id": "13c21f21",
   "metadata": {},
   "source": [
    "Quick general overview of how to use Sympy and syntax"
   ]
  },
  {
   "cell_type": "code",
   "execution_count": 58,
   "id": "7b15c4c7",
   "metadata": {},
   "outputs": [],
   "source": [
    "#simpy CRSANKDRIVE EQUATIONS\n",
    "import sympy as smp\n",
    "import numpy as np\n",
    "from matplotlib import pyplot as plt"
   ]
  },
  {
   "cell_type": "code",
   "execution_count": 3,
   "id": "a6a87b19",
   "metadata": {},
   "outputs": [],
   "source": [
    "x = smp.symbols('x')"
   ]
  },
  {
   "cell_type": "code",
   "execution_count": 4,
   "id": "10a63e61",
   "metadata": {},
   "outputs": [
    {
     "data": {
      "text/latex": [
       "$\\displaystyle x$"
      ],
      "text/plain": [
       "x"
      ]
     },
     "execution_count": 4,
     "metadata": {},
     "output_type": "execute_result"
    }
   ],
   "source": [
    "x"
   ]
  },
  {
   "cell_type": "code",
   "execution_count": 5,
   "id": "4c3013d8",
   "metadata": {},
   "outputs": [
    {
     "data": {
      "text/latex": [
       "$\\displaystyle x^{2}$"
      ],
      "text/plain": [
       "x**2"
      ]
     },
     "execution_count": 5,
     "metadata": {},
     "output_type": "execute_result"
    }
   ],
   "source": [
    "x**2"
   ]
  },
  {
   "cell_type": "code",
   "execution_count": 7,
   "id": "afea2349",
   "metadata": {},
   "outputs": [],
   "source": [
    "y = x**2+4*x+3"
   ]
  },
  {
   "cell_type": "code",
   "execution_count": 8,
   "id": "3ade76e1",
   "metadata": {},
   "outputs": [
    {
     "data": {
      "text/latex": [
       "$\\displaystyle x^{2} + 4 x + 3$"
      ],
      "text/plain": [
       "x**2 + 4*x + 3"
      ]
     },
     "execution_count": 8,
     "metadata": {},
     "output_type": "execute_result"
    }
   ],
   "source": [
    "y"
   ]
  },
  {
   "cell_type": "code",
   "execution_count": 10,
   "id": "a28573e0",
   "metadata": {},
   "outputs": [
    {
     "data": {
      "text/latex": [
       "$\\displaystyle \\left(x^{2} + 4 x + 3\\right)^{2}$"
      ],
      "text/plain": [
       "(x**2 + 4*x + 3)**2"
      ]
     },
     "execution_count": 10,
     "metadata": {},
     "output_type": "execute_result"
    }
   ],
   "source": [
    "z = y**2\n",
    "z"
   ]
  },
  {
   "cell_type": "code",
   "execution_count": 11,
   "id": "aea369ba",
   "metadata": {},
   "outputs": [
    {
     "data": {
      "text/latex": [
       "$\\displaystyle \\left(x + 1\\right)^{2} \\left(x + 3\\right)^{2}$"
      ],
      "text/plain": [
       "(x + 1)**2*(x + 3)**2"
      ]
     },
     "execution_count": 11,
     "metadata": {},
     "output_type": "execute_result"
    }
   ],
   "source": [
    "z.factor()"
   ]
  },
  {
   "cell_type": "code",
   "execution_count": 12,
   "id": "9100ec8d",
   "metadata": {},
   "outputs": [
    {
     "data": {
      "text/latex": [
       "$\\displaystyle x^{4} + 8 x^{3} + 22 x^{2} + 24 x + 9$"
      ],
      "text/plain": [
       "x**4 + 8*x**3 + 22*x**2 + 24*x + 9"
      ]
     },
     "execution_count": 12,
     "metadata": {},
     "output_type": "execute_result"
    }
   ],
   "source": [
    "z.expand()"
   ]
  },
  {
   "cell_type": "code",
   "execution_count": 14,
   "id": "727b782c",
   "metadata": {},
   "outputs": [
    {
     "data": {
      "text/plain": [
       "[-3, -1]"
      ]
     },
     "execution_count": 14,
     "metadata": {},
     "output_type": "execute_result"
    }
   ],
   "source": [
    "smp.solve(z,x) # this will find x, so that z = 0"
   ]
  },
  {
   "cell_type": "code",
   "execution_count": 15,
   "id": "b659c357",
   "metadata": {},
   "outputs": [
    {
     "data": {
      "text/plain": [
       "[0, pi]"
      ]
     },
     "execution_count": 15,
     "metadata": {},
     "output_type": "execute_result"
    }
   ],
   "source": [
    "smp. solve(smp.sin(x),x)"
   ]
  },
  {
   "cell_type": "code",
   "execution_count": 16,
   "id": "19a4dcc5",
   "metadata": {},
   "outputs": [
    {
     "data": {
      "text/latex": [
       "$\\displaystyle x$"
      ],
      "text/plain": [
       "x"
      ]
     },
     "execution_count": 16,
     "metadata": {},
     "output_type": "execute_result"
    }
   ],
   "source": [
    "x"
   ]
  },
  {
   "cell_type": "markdown",
   "id": "92c571f3",
   "metadata": {},
   "source": [
    "Now, the equations for the crankdrive will be defined and solved/rearranged"
   ]
  },
  {
   "cell_type": "code",
   "execution_count": 150,
   "id": "26e8951b",
   "metadata": {},
   "outputs": [],
   "source": [
    "r, l, s, v, a, s_0, s_x, s1 = smp.symbols('r l s v a s_0, s_x s_1')\n",
    "alpha = smp.symbols(r'\\alpha')\n",
    "lamb = smp.symbols(r'\\lambda')\n",
    "psi = smp.symbols(r'\\psi')\n",
    "phi = smp.symbols(r'\\phi')"
   ]
  },
  {
   "cell_type": "code",
   "execution_count": 151,
   "id": "2037c865",
   "metadata": {},
   "outputs": [
    {
     "data": {
      "text/latex": [
       "$\\displaystyle s_{x}$"
      ],
      "text/plain": [
       "s_x"
      ]
     },
     "execution_count": 151,
     "metadata": {},
     "output_type": "execute_result"
    }
   ],
   "source": [
    "s_x"
   ]
  },
  {
   "cell_type": "code",
   "execution_count": 152,
   "id": "353bc8af",
   "metadata": {},
   "outputs": [],
   "source": [
    "psi = smp.atan(lamb*smp.sin(phi)/smp.sqrt(1-lamb**2*smp.sin(phi)**2))"
   ]
  },
  {
   "cell_type": "code",
   "execution_count": 153,
   "id": "f761dde3",
   "metadata": {},
   "outputs": [
    {
     "data": {
      "text/latex": [
       "$\\displaystyle \\operatorname{atan}{\\left(\\frac{\\lambda \\sin{\\left(\\phi \\right)}}{\\sqrt{- \\lambda^{2} \\sin^{2}{\\left(\\phi \\right)} + 1}} \\right)}$"
      ],
      "text/plain": [
       "atan(\\lambda*sin(\\phi)/sqrt(-\\lambda**2*sin(\\phi)**2 + 1))"
      ]
     },
     "execution_count": 153,
     "metadata": {},
     "output_type": "execute_result"
    }
   ],
   "source": [
    "psi"
   ]
  },
  {
   "cell_type": "code",
   "execution_count": 154,
   "id": "7897ebea",
   "metadata": {},
   "outputs": [],
   "source": [
    "s=r*(1-smp.cos(phi)+(1/lamb)*(1-smp.sqrt(1-lamb**2*smp.sin(phi)**2)))"
   ]
  },
  {
   "cell_type": "code",
   "execution_count": 155,
   "id": "1aff662d",
   "metadata": {},
   "outputs": [
    {
     "data": {
      "text/latex": [
       "$\\displaystyle r \\left(- \\cos{\\left(\\phi \\right)} + 1 + \\frac{1 - \\sqrt{- \\lambda^{2} \\sin^{2}{\\left(\\phi \\right)} + 1}}{\\lambda}\\right)$"
      ],
      "text/plain": [
       "r*(-cos(\\phi) + 1 + (1 - sqrt(-\\lambda**2*sin(\\phi)**2 + 1))/\\lambda)"
      ]
     },
     "execution_count": 155,
     "metadata": {},
     "output_type": "execute_result"
    }
   ],
   "source": [
    "s"
   ]
  },
  {
   "cell_type": "code",
   "execution_count": 156,
   "id": "0aaf5426",
   "metadata": {},
   "outputs": [],
   "source": [
    "expr_psi = smp.lambdify([lamb, phi], psi)"
   ]
  },
  {
   "cell_type": "code",
   "execution_count": 157,
   "id": "d36ff5b1",
   "metadata": {},
   "outputs": [
    {
     "data": {
      "text/plain": [
       "0.03770024945377725"
      ]
     },
     "execution_count": 157,
     "metadata": {},
     "output_type": "execute_result"
    }
   ],
   "source": [
    "expr_psi(0.24,0.1577)"
   ]
  },
  {
   "cell_type": "code",
   "execution_count": 158,
   "id": "ac6f8d22",
   "metadata": {},
   "outputs": [],
   "source": [
    "lamb_num = 0.288\n",
    "phi_num = np.linspace(0,3.14159*2,100)"
   ]
  },
  {
   "cell_type": "code",
   "execution_count": 159,
   "id": "2a8391d8",
   "metadata": {},
   "outputs": [
    {
     "data": {
      "text/plain": [
       "0.288"
      ]
     },
     "execution_count": 159,
     "metadata": {},
     "output_type": "execute_result"
    }
   ],
   "source": [
    "lamb_num"
   ]
  },
  {
   "cell_type": "code",
   "execution_count": 160,
   "id": "0986ded3",
   "metadata": {},
   "outputs": [
    {
     "data": {
      "text/plain": [
       "array([0.        , 0.06346646, 0.12693293, 0.19039939, 0.25386586,\n",
       "       0.31733232, 0.38079879, 0.44426525, 0.50773172, 0.57119818,\n",
       "       0.63466465, 0.69813111, 0.76159758, 0.82506404, 0.88853051,\n",
       "       0.95199697, 1.01546343, 1.0789299 , 1.14239636, 1.20586283,\n",
       "       1.26932929, 1.33279576, 1.39626222, 1.45972869, 1.52319515,\n",
       "       1.58666162, 1.65012808, 1.71359455, 1.77706101, 1.84052747,\n",
       "       1.90399394, 1.9674604 , 2.03092687, 2.09439333, 2.1578598 ,\n",
       "       2.22132626, 2.28479273, 2.34825919, 2.41172566, 2.47519212,\n",
       "       2.53865859, 2.60212505, 2.66559152, 2.72905798, 2.79252444,\n",
       "       2.85599091, 2.91945737, 2.98292384, 3.0463903 , 3.10985677,\n",
       "       3.17332323, 3.2367897 , 3.30025616, 3.36372263, 3.42718909,\n",
       "       3.49065556, 3.55412202, 3.61758848, 3.68105495, 3.74452141,\n",
       "       3.80798788, 3.87145434, 3.93492081, 3.99838727, 4.06185374,\n",
       "       4.1253202 , 4.18878667, 4.25225313, 4.3157196 , 4.37918606,\n",
       "       4.44265253, 4.50611899, 4.56958545, 4.63305192, 4.69651838,\n",
       "       4.75998485, 4.82345131, 4.88691778, 4.95038424, 5.01385071,\n",
       "       5.07731717, 5.14078364, 5.2042501 , 5.26771657, 5.33118303,\n",
       "       5.39464949, 5.45811596, 5.52158242, 5.58504889, 5.64851535,\n",
       "       5.71198182, 5.77544828, 5.83891475, 5.90238121, 5.96584768,\n",
       "       6.02931414, 6.09278061, 6.15624707, 6.21971354, 6.28318   ])"
      ]
     },
     "execution_count": 160,
     "metadata": {},
     "output_type": "execute_result"
    }
   ],
   "source": [
    "phi_num"
   ]
  },
  {
   "cell_type": "code",
   "execution_count": 161,
   "id": "d2fb9d91",
   "metadata": {},
   "outputs": [
    {
     "data": {
      "image/png": "[encoded data removed]",
      "text/plain": [
       "<Figure size 432x288 with 1 Axes>"
      ]
     },
     "metadata": {
      "needs_background": "light"
     },
     "output_type": "display_data"
    }
   ],
   "source": [
    "plt.plot(phi_num/2*57.3, expr_psi(phi_num/2, lamb_num)*57.3)\n",
    "plt.show()"
   ]
  },
  {
   "cell_type": "code",
   "execution_count": 162,
   "id": "0b82e4e0",
   "metadata": {},
   "outputs": [
    {
     "data": {
      "text/latex": [
       "$\\displaystyle r \\left(\\frac{\\lambda \\sin^{2}{\\left(\\phi \\right)}}{2} - \\cos{\\left(\\phi \\right)} + 1\\right)$"
      ],
      "text/plain": [
       "r*(\\lambda*sin(\\phi)**2/2 - cos(\\phi) + 1)"
      ]
     },
     "execution_count": 162,
     "metadata": {},
     "output_type": "execute_result"
    }
   ],
   "source": [
    "s1 = r*(1-smp.cos(phi)+smp.Rational(1/2)*lamb*smp.sin(phi)**2)\n",
    "s1"
   ]
  },
  {
   "cell_type": "code",
   "execution_count": 163,
   "id": "6f84e4cd",
   "metadata": {},
   "outputs": [],
   "source": [
    "expr_s1 = smp.lambdify([r, lamb, phi], s1)"
   ]
  },
  {
   "cell_type": "code",
   "execution_count": 164,
   "id": "916300d9",
   "metadata": {
    "scrolled": true
   },
   "outputs": [
    {
     "data": {
      "image/png": "[encoded data removed]",
      "text/plain": [
       "<Figure size 432x288 with 1 Axes>"
      ]
     },
     "metadata": {
      "needs_background": "light"
     },
     "output_type": "display_data"
    }
   ],
   "source": [
    "plt.plot(phi_num*57.3, expr_s1(0.02425, 0.288, phi_num))\n",
    "plt.title('Kolbenweg [m]')\n",
    "plt.grid()\n",
    "plt.show()"
   ]
  },
  {
   "cell_type": "code",
   "execution_count": 165,
   "id": "c5f98055",
   "metadata": {},
   "outputs": [
    {
     "data": {
      "text/latex": [
       "$\\displaystyle r \\left(\\lambda \\sin{\\left(\\phi \\right)} \\cos{\\left(\\phi \\right)} + \\sin{\\left(\\phi \\right)}\\right)$"
      ],
      "text/plain": [
       "r*(\\lambda*sin(\\phi)*cos(\\phi) + sin(\\phi))"
      ]
     },
     "execution_count": 165,
     "metadata": {},
     "output_type": "execute_result"
    }
   ],
   "source": [
    "v1 = smp.diff(s1, phi)\n",
    "v1"
   ]
  },
  {
   "cell_type": "code",
   "execution_count": 166,
   "id": "5a37c91a",
   "metadata": {
    "scrolled": true
   },
   "outputs": [
    {
     "data": {
      "image/png": "[encoded data removed]",
      "text/plain": [
       "<Figure size 432x288 with 1 Axes>"
      ]
     },
     "metadata": {
      "needs_background": "light"
     },
     "output_type": "display_data"
    }
   ],
   "source": [
    "expr_v1 = smp.lambdify([r, lamb, phi], v1)\n",
    "plt.plot(phi_num*57.3, expr_v1(0.02425, 0.288, phi_num))\n",
    "plt.title('Kolbengeschw [m/s]')\n",
    "plt.grid()\n",
    "plt.show()"
   ]
  },
  {
   "cell_type": "code",
   "execution_count": 167,
   "id": "c517ab0a",
   "metadata": {},
   "outputs": [
    {
     "data": {
      "text/latex": [
       "$\\displaystyle r \\left(- \\lambda \\sin^{2}{\\left(\\phi \\right)} + \\lambda \\cos^{2}{\\left(\\phi \\right)} + \\cos{\\left(\\phi \\right)}\\right)$"
      ],
      "text/plain": [
       "r*(-\\lambda*sin(\\phi)**2 + \\lambda*cos(\\phi)**2 + cos(\\phi))"
      ]
     },
     "execution_count": 167,
     "metadata": {},
     "output_type": "execute_result"
    }
   ],
   "source": [
    "a1 = smp.diff(v1, phi)\n",
    "a1"
   ]
  },
  {
   "cell_type": "code",
   "execution_count": 168,
   "id": "7744895d",
   "metadata": {
    "scrolled": true
   },
   "outputs": [
    {
     "data": {
      "image/png": "[encoded data removed]",
      "text/plain": [
       "<Figure size 432x288 with 1 Axes>"
      ]
     },
     "metadata": {
      "needs_background": "light"
     },
     "output_type": "display_data"
    }
   ],
   "source": [
    "expr_a1 = smp.lambdify([r, lamb, phi], a1)\n",
    "plt.plot(phi_num*57.3, expr_a1(0.02425, 0.288, phi_num))\n",
    "plt.title('Kolbenbeschl [m/s^2]')\n",
    "plt.grid()\n",
    "plt.show()"
   ]
  },
  {
   "cell_type": "code",
   "execution_count": 194,
   "id": "a49ac0bc",
   "metadata": {},
   "outputs": [
    {
     "data": {
      "image/png": "[encoded data removed]",
      "text/plain": [
       "<Figure size 432x288 with 1 Axes>"
      ]
     },
     "metadata": {
      "needs_background": "light"
     },
     "output_type": "display_data"
    }
   ],
   "source": [
    "expr_a1 = smp.lambdify([r, lamb, phi], a1)\n",
    "plt.figure(1)\n",
    "for i in [0.1, 0.2, 0.3, 0.4, 0.5, 0.6]:\n",
    "    \n",
    "    plt.plot(phi_num*57.3, expr_a1(0.02425, i, phi_num), label='%s lambda' % i)\n",
    "    plt.title('Kolbenbeschl [m/s^2]')\n",
    "    plt.grid()\n",
    "    #plt.legend([i], loc='lower right')\n",
    "    #plt.plot(xs,dct['list_%s' %i], label='%s data' % i)\n",
    "    plt.legend()\n",
    "plt.show() #must be outside the loop for superposition of Plots"
   ]
  },
  {
   "cell_type": "code",
   "execution_count": 170,
   "id": "b2df0001",
   "metadata": {},
   "outputs": [],
   "source": [
    "#Desaxierung und Schränkung"
   ]
  },
  {
   "cell_type": "code",
   "execution_count": 171,
   "id": "1e33a57a",
   "metadata": {},
   "outputs": [],
   "source": [
    "#Kräfte im Kurbeltrieb"
   ]
  },
  {
   "cell_type": "code",
   "execution_count": null,
   "id": "443deee4",
   "metadata": {},
   "outputs": [],
   "source": []
  },
  {
   "cell_type": "code",
   "execution_count": null,
   "id": "4c860a21",
   "metadata": {},
   "outputs": [],
   "source": []
  }
 ],
 "metadata": {
  "kernelspec": {
   "display_name": "Python 3",
   "language": "python",
   "name": "python3"
  },
  "language_info": {
   "codemirror_mode": {
    "name": "ipython",
    "version": 3
   },
   "file_extension": ".py",
   "mimetype": "text/x-python",
   "name": "python",
   "nbconvert_exporter": "python",
   "pygments_lexer": "ipython3",
   "version": "3.8.8"
  }
 },
 "nbformat": 4,
 "nbformat_minor": 5
}

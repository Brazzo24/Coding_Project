{
 "cells": [
  {
   "cell_type": "code",
   "execution_count": 1,
   "id": "5b285dbc",
   "metadata": {},
   "outputs": [],
   "source": [
    "import numpy as np\n",
    "from matplotlib import pyplot as plt\n"
   ]
  },
  {
   "cell_type": "code",
   "execution_count": 3,
   "id": "2401eb28",
   "metadata": {},
   "outputs": [],
   "source": [
    "#ipnut parameters\n",
    "r = 0.02425 #crank radius in m\n",
    "l = 0.0902 #conrod length in m\n",
    "phi = 20 #kurbelwinkel\n"
   ]
  },
  {
   "cell_type": "code",
   "execution_count": 6,
   "id": "4ec21ac8",
   "metadata": {},
   "outputs": [],
   "source": [
    "def function_Piston_Pos(r,l,phi):\n",
    "    x = l+r-np.sqrt(l**2-r**2*np.sin(phi*np.pi/180)**2)-r*np.cos(phi*np.pi/180)\n",
    "    return x\n"
   ]
  },
  {
   "cell_type": "code",
   "execution_count": 7,
   "id": "4353e104",
   "metadata": {},
   "outputs": [
    {
     "data": {
      "text/plain": [
       "0.0018445840359631836"
      ]
     },
     "execution_count": 7,
     "metadata": {},
     "output_type": "execute_result"
    }
   ],
   "source": [
    "function_Piston_Pos(r,l,phi)"
   ]
  },
  {
   "cell_type": "code",
   "execution_count": 9,
   "id": "42d4b997",
   "metadata": {},
   "outputs": [
    {
     "ename": "NameError",
     "evalue": "name 'x' is not defined",
     "output_type": "error",
     "traceback": [
      "\u001b[1;31m---------------------------------------------------------------------------\u001b[0m",
      "\u001b[1;31mNameError\u001b[0m                                 Traceback (most recent call last)",
      "\u001b[1;32m<ipython-input-9-fc17d851ef81>\u001b[0m in \u001b[0;36m<module>\u001b[1;34m\u001b[0m\n\u001b[1;32m----> 1\u001b[1;33m \u001b[0mprint\u001b[0m\u001b[1;33m(\u001b[0m\u001b[0mx\u001b[0m\u001b[1;33m)\u001b[0m\u001b[1;33m\u001b[0m\u001b[1;33m\u001b[0m\u001b[0m\n\u001b[0m",
      "\u001b[1;31mNameError\u001b[0m: name 'x' is not defined"
     ]
    }
   ],
   "source": [
    "print(x)"
   ]
  },
  {
   "cell_type": "code",
   "execution_count": null,
   "id": "e2717f65",
   "metadata": {},
   "outputs": [],
   "source": []
  }
 ],
 "metadata": {
  "kernelspec": {
   "display_name": "Python 3",
   "language": "python",
   "name": "python3"
  },
  "language_info": {
   "codemirror_mode": {
    "name": "ipython",
    "version": 3
   },
   "file_extension": ".py",
   "mimetype": "text/x-python",
   "name": "python",
   "nbconvert_exporter": "python",
   "pygments_lexer": "ipython3",
   "version": "3.8.8"
  }
 },
 "nbformat": 4,
 "nbformat_minor": 5
}

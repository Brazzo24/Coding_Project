{
 "cells": [
  {
   "cell_type": "code",
   "execution_count": 1,
   "id": "12c973a1",
   "metadata": {},
   "outputs": [],
   "source": [
    "#import necessary packages\n",
    "import numpy as np\n",
    "from numpy import pi, sin, cos, sqrt\n",
    "import matplotlib.pyplot as plt\n",
    "import matplotlib.animation as animation"
   ]
  },
  {
   "cell_type": "code",
   "execution_count": 2,
   "id": "0842be84",
   "metadata": {},
   "outputs": [],
   "source": [
    "#input parameters\n",
    "r = 1.0 #crank radius\n",
    "l = 4.0 #connecting rod lenght\n",
    "rot_num = 4 #number of crank rotations\n",
    "increment = 0.1 #angle increment"
   ]
  },
  {
   "cell_type": "code",
   "execution_count": 3,
   "id": "c784bff6",
   "metadata": {},
   "outputs": [],
   "source": [
    "#create the angle array, where the last angle is the number of rotations*2*pi\n",
    "angles = np.arange(0, rot_num*2*pi+increment, increment)"
   ]
  },
  {
   "cell_type": "code",
   "execution_count": 4,
   "id": "934b1e8e",
   "metadata": {},
   "outputs": [
    {
     "data": {
      "text/plain": [
       "array([ 0. ,  0.1,  0.2,  0.3,  0.4,  0.5,  0.6,  0.7,  0.8,  0.9,  1. ,\n",
       "        1.1,  1.2,  1.3,  1.4,  1.5,  1.6,  1.7,  1.8,  1.9,  2. ,  2.1,\n",
       "        2.2,  2.3,  2.4,  2.5,  2.6,  2.7,  2.8,  2.9,  3. ,  3.1,  3.2,\n",
       "        3.3,  3.4,  3.5,  3.6,  3.7,  3.8,  3.9,  4. ,  4.1,  4.2,  4.3,\n",
       "        4.4,  4.5,  4.6,  4.7,  4.8,  4.9,  5. ,  5.1,  5.2,  5.3,  5.4,\n",
       "        5.5,  5.6,  5.7,  5.8,  5.9,  6. ,  6.1,  6.2,  6.3,  6.4,  6.5,\n",
       "        6.6,  6.7,  6.8,  6.9,  7. ,  7.1,  7.2,  7.3,  7.4,  7.5,  7.6,\n",
       "        7.7,  7.8,  7.9,  8. ,  8.1,  8.2,  8.3,  8.4,  8.5,  8.6,  8.7,\n",
       "        8.8,  8.9,  9. ,  9.1,  9.2,  9.3,  9.4,  9.5,  9.6,  9.7,  9.8,\n",
       "        9.9, 10. , 10.1, 10.2, 10.3, 10.4, 10.5, 10.6, 10.7, 10.8, 10.9,\n",
       "       11. , 11.1, 11.2, 11.3, 11.4, 11.5, 11.6, 11.7, 11.8, 11.9, 12. ,\n",
       "       12.1, 12.2, 12.3, 12.4, 12.5, 12.6, 12.7, 12.8, 12.9, 13. , 13.1,\n",
       "       13.2, 13.3, 13.4, 13.5, 13.6, 13.7, 13.8, 13.9, 14. , 14.1, 14.2,\n",
       "       14.3, 14.4, 14.5, 14.6, 14.7, 14.8, 14.9, 15. , 15.1, 15.2, 15.3,\n",
       "       15.4, 15.5, 15.6, 15.7, 15.8, 15.9, 16. , 16.1, 16.2, 16.3, 16.4,\n",
       "       16.5, 16.6, 16.7, 16.8, 16.9, 17. , 17.1, 17.2, 17.3, 17.4, 17.5,\n",
       "       17.6, 17.7, 17.8, 17.9, 18. , 18.1, 18.2, 18.3, 18.4, 18.5, 18.6,\n",
       "       18.7, 18.8, 18.9, 19. , 19.1, 19.2, 19.3, 19.4, 19.5, 19.6, 19.7,\n",
       "       19.8, 19.9, 20. , 20.1, 20.2, 20.3, 20.4, 20.5, 20.6, 20.7, 20.8,\n",
       "       20.9, 21. , 21.1, 21.2, 21.3, 21.4, 21.5, 21.6, 21.7, 21.8, 21.9,\n",
       "       22. , 22.1, 22.2, 22.3, 22.4, 22.5, 22.6, 22.7, 22.8, 22.9, 23. ,\n",
       "       23.1, 23.2, 23.3, 23.4, 23.5, 23.6, 23.7, 23.8, 23.9, 24. , 24.1,\n",
       "       24.2, 24.3, 24.4, 24.5, 24.6, 24.7, 24.8, 24.9, 25. , 25.1, 25.2])"
      ]
     },
     "execution_count": 4,
     "metadata": {},
     "output_type": "execute_result"
    }
   ],
   "source": [
    "angles"
   ]
  },
  {
   "cell_type": "code",
   "execution_count": 5,
   "id": "3747d34d",
   "metadata": {},
   "outputs": [],
   "source": [
    "X1 = np.zeros(len(angles)) #array of crank x-positions: Point 1"
   ]
  },
  {
   "cell_type": "code",
   "execution_count": 6,
   "id": "bfae01e4",
   "metadata": {},
   "outputs": [
    {
     "data": {
      "text/plain": [
       "array([0., 0., 0., 0., 0., 0., 0., 0., 0., 0., 0., 0., 0., 0., 0., 0., 0.,\n",
       "       0., 0., 0., 0., 0., 0., 0., 0., 0., 0., 0., 0., 0., 0., 0., 0., 0.,\n",
       "       0., 0., 0., 0., 0., 0., 0., 0., 0., 0., 0., 0., 0., 0., 0., 0., 0.,\n",
       "       0., 0., 0., 0., 0., 0., 0., 0., 0., 0., 0., 0., 0., 0., 0., 0., 0.,\n",
       "       0., 0., 0., 0., 0., 0., 0., 0., 0., 0., 0., 0., 0., 0., 0., 0., 0.,\n",
       "       0., 0., 0., 0., 0., 0., 0., 0., 0., 0., 0., 0., 0., 0., 0., 0., 0.,\n",
       "       0., 0., 0., 0., 0., 0., 0., 0., 0., 0., 0., 0., 0., 0., 0., 0., 0.,\n",
       "       0., 0., 0., 0., 0., 0., 0., 0., 0., 0., 0., 0., 0., 0., 0., 0., 0.,\n",
       "       0., 0., 0., 0., 0., 0., 0., 0., 0., 0., 0., 0., 0., 0., 0., 0., 0.,\n",
       "       0., 0., 0., 0., 0., 0., 0., 0., 0., 0., 0., 0., 0., 0., 0., 0., 0.,\n",
       "       0., 0., 0., 0., 0., 0., 0., 0., 0., 0., 0., 0., 0., 0., 0., 0., 0.,\n",
       "       0., 0., 0., 0., 0., 0., 0., 0., 0., 0., 0., 0., 0., 0., 0., 0., 0.,\n",
       "       0., 0., 0., 0., 0., 0., 0., 0., 0., 0., 0., 0., 0., 0., 0., 0., 0.,\n",
       "       0., 0., 0., 0., 0., 0., 0., 0., 0., 0., 0., 0., 0., 0., 0., 0., 0.,\n",
       "       0., 0., 0., 0., 0., 0., 0., 0., 0., 0., 0., 0., 0., 0., 0.])"
      ]
     },
     "execution_count": 6,
     "metadata": {},
     "output_type": "execute_result"
    }
   ],
   "source": [
    "X1"
   ]
  },
  {
   "cell_type": "code",
   "execution_count": 7,
   "id": "247be20e",
   "metadata": {},
   "outputs": [],
   "source": [
    "Y1 = np.zeros(len(angles)) #array of crank y-positions: Point 1"
   ]
  },
  {
   "cell_type": "code",
   "execution_count": 8,
   "id": "103b1f6e",
   "metadata": {},
   "outputs": [],
   "source": [
    "X2 = np.zeros(len(angles)) #array of rod x-positions: Point 2"
   ]
  },
  {
   "cell_type": "code",
   "execution_count": 9,
   "id": "2763a841",
   "metadata": {},
   "outputs": [],
   "source": [
    "Y2 = np.zeros(len(angles)) #array of rod y-positions: Point 2"
   ]
  },
  {
   "cell_type": "code",
   "execution_count": 10,
   "id": "42f76d54",
   "metadata": {},
   "outputs": [],
   "source": [
    "#find the crank and connecting rod positions for each angle\n",
    "for index, theta in enumerate(angles, start=0):\n",
    "    x1 = r*cos(theta) # x-coordinate of the crank: Point 1\n",
    "    y1 = r*sin(theta) # y-coordinate of the crank: Point 1\n",
    "    x2 = 0 # x-coordinate of the rod: Point 2\n",
    "    y2 = r*sin(theta) + sqrt(1**2 - (r*cos(theta))**2)\n",
    "    \n",
    "    X1[index] = x1 #crankshaft x-position\n",
    "    Y1[index] = y1 #crankshaft y-position\n",
    "    X2[index] = x2 #connecting rod x-position\n",
    "    Y2[index] = y2 #connecting rod x-position"
   ]
  },
  {
   "cell_type": "code",
   "execution_count": 17,
   "id": "e9b744d0",
   "metadata": {},
   "outputs": [
    {
     "data": {
      "image/png": "[encoded data removed]",
      "text/plain": [
       "<Figure size 432x288 with 1 Axes>"
      ]
     },
     "metadata": {
      "needs_background": "light"
     },
     "output_type": "display_data"
    }
   ],
   "source": [
    "#set up the figure and subplot\n",
    "fig = plt.figure()\n",
    "ax = fig.add_subplot(111, aspect='equal', autoscale_on=False, xlim=(-4,4), ylim=(-2,6))\n",
    "ax.grid()\n",
    "ax.set_title('Piston Motion Animation')\n",
    "ax.axes.xaxis.set_ticklabels([])\n",
    "ax.axes.yaxis.set_ticklabels([])\n",
    "line, = ax.plot([], [], 'o-', lw=5, color='#de2d26')\n"
   ]
  },
  {
   "cell_type": "code",
   "execution_count": 12,
   "id": "6ad364e9",
   "metadata": {},
   "outputs": [],
   "source": [
    "#initialize functino\n",
    "def init():\n",
    "    line.set_data([], [])\n",
    "    return line,"
   ]
  },
  {
   "cell_type": "code",
   "execution_count": 13,
   "id": "a292c5ef",
   "metadata": {},
   "outputs": [],
   "source": [
    "#animation function\n",
    "def animate(i):\n",
    "    x_points = [0, X1[i], X2[i]]\n",
    "    y_points = [0, Y1[i], Y2[i]]\n",
    "    \n",
    "    line.set_data(x_points, y_points)\n",
    "    return line,"
   ]
  },
  {
   "cell_type": "code",
   "execution_count": 15,
   "id": "73638061",
   "metadata": {},
   "outputs": [],
   "source": [
    "#call the animation\n",
    "ani = animation.FuncAnimation(fig, animate, init_func=init, frames=len(X1), interval=40, blit=True, repeat=False)\n",
    "## to save the animation, uncomment the line below\n",
    "##ani.save('offset_piston_motion_animation.mp4',fps=30, extra_args=['vcodec', 'libx264'])\n",
    "\n",
    "#show the animation\n",
    "plt.show()"
   ]
  },
  {
   "cell_type": "code",
   "execution_count": null,
   "id": "c559cb50",
   "metadata": {},
   "outputs": [],
   "source": []
  }
 ],
 "metadata": {
  "kernelspec": {
   "display_name": "Python 3",
   "language": "python",
   "name": "python3"
  },
  "language_info": {
   "codemirror_mode": {
    "name": "ipython",
    "version": 3
   },
   "file_extension": ".py",
   "mimetype": "text/x-python",
   "name": "python",
   "nbconvert_exporter": "python",
   "pygments_lexer": "ipython3",
   "version": "3.8.8"
  }
 },
 "nbformat": 4,
 "nbformat_minor": 5
}

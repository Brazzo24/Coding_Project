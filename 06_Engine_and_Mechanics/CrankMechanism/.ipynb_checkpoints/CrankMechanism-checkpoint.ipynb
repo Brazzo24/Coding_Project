{
 "cells": [
  {
   "cell_type": "code",
   "execution_count": null,
   "id": "4b3952c0",
   "metadata": {},
   "outputs": [],
   "source": [
    "import matplotlib.animation as animation\n",
    "import matplotlib.pyplot as plt\n",
    "import visual as v\n",
    "import numpy as np\n",
    "import time"
   ]
  },
  {
   "cell_type": "code",
   "execution_count": 3,
   "id": "d320adc2",
   "metadata": {},
   "outputs": [],
   "source": [
    "plt.style.use('ggplot')"
   ]
  },
  {
   "cell_type": "code",
   "execution_count": 6,
   "id": "70408836",
   "metadata": {},
   "outputs": [],
   "source": [
    "class My_mechanism(object):\n",
    "    #the init function\n",
    "    \n",
    "    def __init__(self,a,b,alpha_dot,alpha0=0):\n",
    "        self.a = a\n",
    "        self.b = b\n",
    "        self.alpha_dot = alpha_dot\n",
    "        self.alpha0 = alpha0\n",
    "        self.k = np.array([0.01])\n",
    "        self.c_position = []\n",
    "        self.conn_rod_angular_speed = []\n",
    "        self.c_speed = []\n",
    "        \n",
    "         #angular position of rod a as a function of time\n",
    "    def alpha(self,t):\n",
    "        if not all(t):\n",
    "            raise ValueError('Each time t must be greate than 0')\n",
    "        alpha = self.alpha0 + self.alpha_dot*t\n",
    "        return alpha\n",
    "    \n",
    "    #Angular position of rod b as a function of time\n",
    "    def beta(self,t):\n",
    "        beta = np.arcsin((self.a/sel.b)*np.sin(self.alpha(t)))\n",
    "        return beta\n",
    "    \n",
    "    #wPiston position of rod a as a function of time\n",
    "    def piston_position(self,t):\n",
    "        c_y = np.zeros(t.shape[0])\n",
    "        c_X = self.a*np.cos(self.alpha(t)) + self.b*np.cos(-np.arcsin((self.a/self.b)*np.sin(self.alpha(t))))\n",
    "        return c_x,c_y\n",
    "    #Rod a position in the complex plane\n",
    "    def rod_a_position(self,t):\n",
    "        a_y = self.a*np.sin(self.alpha(t))\n",
    "        a_x = self.a*np.cos(self.alpha(t))\n",
    "        return a_x,a_y\n",
    "    \n",
    "    #Angular speed of rod b\n",
    "    def beta_dot(self,t):\n",
    "        beta_dot = -(self.a*self.alpha_dot*np.cos(self.alpha(t)))/(self.b*np.cos(self.beta(t)))\n",
    "        return beta_dot\n",
    "    \n",
    "    #Piston Speed\n",
    "    def c_dot(self,t):\n",
    "        c_dot = self.a*self.alpha_dot\n",
    "    "
   ]
  },
  {
   "cell_type": "code",
   "execution_count": null,
   "id": "23d4cf04",
   "metadata": {},
   "outputs": [],
   "source": []
  },
  {
   "cell_type": "code",
   "execution_count": null,
   "id": "2b91c53a",
   "metadata": {},
   "outputs": [],
   "source": [
    "  \n",
    "            "
   ]
  },
  {
   "cell_type": "code",
   "execution_count": null,
   "id": "d6849870",
   "metadata": {},
   "outputs": [],
   "source": []
  }
 ],
 "metadata": {
  "kernelspec": {
   "display_name": "Python 3",
   "language": "python",
   "name": "python3"
  },
  "language_info": {
   "codemirror_mode": {
    "name": "ipython",
    "version": 3
   },
   "file_extension": ".py",
   "mimetype": "text/x-python",
   "name": "python",
   "nbconvert_exporter": "python",
   "pygments_lexer": "ipython3",
   "version": "3.8.8"
  }
 },
 "nbformat": 4,
 "nbformat_minor": 5
}

{
 "cells": [
  {
   "cell_type": "code",
   "execution_count": 21,
   "id": "fef5882c",
   "metadata": {},
   "outputs": [],
   "source": [
    "from scipy.integrate import odeint\n",
    "import numpy as np\n",
    "import matplotlib.pyplot as plt"
   ]
  },
  {
   "cell_type": "code",
   "execution_count": 32,
   "id": "f41895a5",
   "metadata": {},
   "outputs": [],
   "source": [
    "r = 0.02425 \n",
    "l = 0.0902\n",
    "omega = 1570\n",
    "m_rec = 0.2525\n",
    "alpha = 0.75049\n",
    "n = l/r\n"
   ]
  },
  {
   "cell_type": "code",
   "execution_count": 35,
   "id": "666960e1",
   "metadata": {},
   "outputs": [],
   "source": [
    "#initials\n",
    "w0 = [0.0, 0.0]"
   ]
  },
  {
   "cell_type": "code",
   "execution_count": 44,
   "id": "e2dfd5ca",
   "metadata": {},
   "outputs": [
    {
     "ename": "TypeError",
     "evalue": "'float' object cannot be interpreted as an integer",
     "output_type": "error",
     "traceback": [
      "\u001b[1;31m---------------------------------------------------------------------------\u001b[0m",
      "\u001b[1;31mTypeError\u001b[0m                                 Traceback (most recent call last)",
      "\u001b[1;32m<ipython-input-44-e56815945df5>\u001b[0m in \u001b[0;36m<module>\u001b[1;34m\u001b[0m\n\u001b[0;32m      2\u001b[0m \u001b[0mT\u001b[0m \u001b[1;33m=\u001b[0m \u001b[1;36m360\u001b[0m\u001b[1;33m/\u001b[0m\u001b[1;36m180\u001b[0m\u001b[1;33m*\u001b[0m\u001b[0mnp\u001b[0m\u001b[1;33m.\u001b[0m\u001b[0mpi\u001b[0m\u001b[1;33m\u001b[0m\u001b[1;33m\u001b[0m\u001b[0m\n\u001b[0;32m      3\u001b[0m \u001b[0mN\u001b[0m \u001b[1;33m=\u001b[0m \u001b[1;36m360\u001b[0m\u001b[1;33m/\u001b[0m\u001b[1;36m180\u001b[0m\u001b[1;33m*\u001b[0m\u001b[0mnp\u001b[0m\u001b[1;33m.\u001b[0m\u001b[0mpi\u001b[0m\u001b[1;33m\u001b[0m\u001b[1;33m\u001b[0m\u001b[0m\n\u001b[1;32m----> 4\u001b[1;33m \u001b[0mPhi\u001b[0m \u001b[1;33m=\u001b[0m \u001b[0mnp\u001b[0m\u001b[1;33m.\u001b[0m\u001b[0mlinspace\u001b[0m\u001b[1;33m(\u001b[0m\u001b[1;36m0.0\u001b[0m\u001b[1;33m,\u001b[0m\u001b[0mT\u001b[0m\u001b[1;33m,\u001b[0m\u001b[0mN\u001b[0m\u001b[1;33m)\u001b[0m\u001b[1;33m\u001b[0m\u001b[1;33m\u001b[0m\u001b[0m\n\u001b[0m",
      "\u001b[1;32m<__array_function__ internals>\u001b[0m in \u001b[0;36mlinspace\u001b[1;34m(*args, **kwargs)\u001b[0m\n",
      "\u001b[1;32m~\\anaconda3\\envs\\main\\lib\\site-packages\\numpy\\core\\function_base.py\u001b[0m in \u001b[0;36mlinspace\u001b[1;34m(start, stop, num, endpoint, retstep, dtype, axis)\u001b[0m\n\u001b[0;32m    118\u001b[0m \u001b[1;33m\u001b[0m\u001b[0m\n\u001b[0;32m    119\u001b[0m     \"\"\"\n\u001b[1;32m--> 120\u001b[1;33m     \u001b[0mnum\u001b[0m \u001b[1;33m=\u001b[0m \u001b[0moperator\u001b[0m\u001b[1;33m.\u001b[0m\u001b[0mindex\u001b[0m\u001b[1;33m(\u001b[0m\u001b[0mnum\u001b[0m\u001b[1;33m)\u001b[0m\u001b[1;33m\u001b[0m\u001b[1;33m\u001b[0m\u001b[0m\n\u001b[0m\u001b[0;32m    121\u001b[0m     \u001b[1;32mif\u001b[0m \u001b[0mnum\u001b[0m \u001b[1;33m<\u001b[0m \u001b[1;36m0\u001b[0m\u001b[1;33m:\u001b[0m\u001b[1;33m\u001b[0m\u001b[1;33m\u001b[0m\u001b[0m\n\u001b[0;32m    122\u001b[0m         \u001b[1;32mraise\u001b[0m \u001b[0mValueError\u001b[0m\u001b[1;33m(\u001b[0m\u001b[1;34m\"Number of samples, %s, must be non-negative.\"\u001b[0m \u001b[1;33m%\u001b[0m \u001b[0mnum\u001b[0m\u001b[1;33m)\u001b[0m\u001b[1;33m\u001b[0m\u001b[1;33m\u001b[0m\u001b[0m\n",
      "\u001b[1;31mTypeError\u001b[0m: 'float' object cannot be interpreted as an integer"
     ]
    }
   ],
   "source": [
    "#Crankangle 0 to 360° in 1° steps\n",
    "T = 360/180*np.pi\n",
    "N = 360/180*np.pi\n",
    "Phi = np.linspace(0.0,T,N)"
   ]
  },
  {
   "cell_type": "code",
   "execution_count": null,
   "id": "96e270f6",
   "metadata": {},
   "outputs": [],
   "source": []
  },
  {
   "cell_type": "code",
   "execution_count": 36,
   "id": "d84721f0",
   "metadata": {},
   "outputs": [],
   "source": [
    "def Cycle_displ(w,Phi):\n",
    "    s = l + r - np.sqrt(l**2-r**2+np.sin(Phi*np.pi/180)**2-r*np.cos(Phi*np.pi/180))\n",
    "    return s\n",
    "    "
   ]
  },
  {
   "cell_type": "code",
   "execution_count": 38,
   "id": "50e93b2d",
   "metadata": {},
   "outputs": [
    {
     "name": "stderr",
     "output_type": "stream",
     "text": [
      "<ipython-input-38-d5d66bc52de7>:1: RuntimeWarning: invalid value encountered in sqrt\n",
      "  s_0 = l + r - np.sqrt(l**2-r**2+np.sin(Phi*np.pi/180)**2-r*np.cos(Phi*np.pi/180))\n"
     ]
    }
   ],
   "source": [
    "s_0 = l + r - np.sqrt(l**2-r**2+np.sin(Phi*np.pi/180)**2-r*np.cos(Phi*np.pi/180))"
   ]
  },
  {
   "cell_type": "code",
   "execution_count": 43,
   "id": "94b3cda0",
   "metadata": {},
   "outputs": [],
   "source": [
    " x = l**2-r**2+np.sin(Phi*np.pi/180)**2-r*np.cos(Phi*np.pi/180)"
   ]
  },
  {
   "cell_type": "code",
   "execution_count": 41,
   "id": "bfc29a4d",
   "metadata": {},
   "outputs": [
    {
     "data": {
      "text/plain": [
       "array([-0.01670202, -0.01639202, -0.0154624 , -0.01391428, -0.01174955,\n",
       "       -0.00897084, -0.00558151, -0.00158568,  0.00301179,  0.00820533,\n",
       "        0.01398863,  0.02035467,  0.02729571,  0.03480335,  0.04286845,\n",
       "        0.05148124,  0.06063126,  0.0703074 ,  0.08049791,  0.09119044,\n",
       "        0.10237201,  0.11402904,  0.1261474 ,  0.13871238,  0.15170873,\n",
       "        0.16512069,  0.17893199,  0.19312588,  0.20768513,  0.22259211,\n",
       "        0.23782872,  0.2533765 ,  0.26921659,  0.28532979,  0.30169658,\n",
       "        0.31829711,  0.33511127,  0.35211868,  0.36929875,  0.38663066,\n",
       "        0.40409342,  0.42166589,  0.43932679,  0.45705474,  0.47482829,\n",
       "        0.49262592,  0.51042612,  0.52820736,  0.54594812,  0.56362696,\n",
       "        0.58122252,  0.59871354,  0.61607889,  0.6332976 ,  0.65034889,\n",
       "        0.66721218,  0.68386712,  0.70029363,  0.71647193,  0.7323825 ,\n",
       "        0.7480062 ,  0.76332422,  0.77831814,  0.79296992,  0.80726196,\n",
       "        0.82117711,  0.83469866,  0.84781041,  0.86049665,  0.8727422 ,\n",
       "        0.88453242,  0.89585323,  0.90669113,  0.91703321,  0.92686718,\n",
       "        0.93618135,  0.9449647 ,  0.95320684,  0.96089806,  0.96802931,\n",
       "        0.97459223,  0.98057917,  0.98598319,  0.99079804,  0.99501822,\n",
       "        0.99863893,  1.00165614,  1.00406654,  1.00586755,  1.00705738,\n",
       "        1.00763494,  1.00759992,  1.00695275,  1.00569462,  1.00382745,\n",
       "        1.00135393,  0.99827747,  0.99460223,  0.9903331 ,  0.98547569,\n",
       "        0.98003635,  0.97402211,  0.96744074,  0.96030067,  0.95261104,\n",
       "        0.94438165,  0.93562294,  0.92634604,  0.91656267,  0.9062852 ,\n",
       "        0.89552659,  0.88430038,  0.87262069,  0.86050219,  0.84796009,\n",
       "        0.83501012,  0.82166849,  0.80795189,  0.79387749,  0.77946287,\n",
       "        0.76472602,  0.74968535,  0.73435962,  0.71876792,  0.70292971,\n",
       "        0.68686469,  0.67059287,  0.65413451,  0.63751007,  0.62074025,\n",
       "        0.60384587,  0.58684795,  0.5697676 ,  0.55262604,  0.53544455,\n",
       "        0.51824446,  0.50104713,  0.48387389,  0.46674606,  0.44968487,\n",
       "        0.43271149,  0.41584695,  0.39911218,  0.38252791,  0.36611469,\n",
       "        0.34989287,  0.33388253,  0.31810353,  0.30257539,  0.28731735,\n",
       "        0.27234831,  0.2576868 ,  0.24335097,  0.22935857,  0.21572692,\n",
       "        0.2024729 ,  0.18961289,  0.17716283,  0.16513811,  0.15355361,\n",
       "        0.14242368,  0.13176206,  0.12158196,  0.11189597,  0.10271607,\n",
       "        0.09405361,  0.08591931,  0.07832323,  0.07127476,  0.06478262,\n",
       "        0.05885483,  0.05349873,  0.04872095,  0.04452738,  0.04092321,\n",
       "        0.03791291,  0.03550018,  0.03368803,  0.03247868,  0.03187363,\n",
       "        0.03187363,  0.03247868,  0.03368803,  0.03550018,  0.03791291,\n",
       "        0.04092321,  0.04452738,  0.04872095,  0.05349873,  0.05885483,\n",
       "        0.06478262,  0.07127476,  0.07832323,  0.08591931,  0.09405361,\n",
       "        0.10271607,  0.11189597,  0.12158196,  0.13176206,  0.14242368,\n",
       "        0.15355361,  0.16513811,  0.17716283,  0.18961289,  0.2024729 ,\n",
       "        0.21572692,  0.22935857,  0.24335097,  0.2576868 ,  0.27234831,\n",
       "        0.28731735,  0.30257539,  0.31810353,  0.33388253,  0.34989287,\n",
       "        0.36611469,  0.38252791,  0.39911218,  0.41584695,  0.43271149,\n",
       "        0.44968487,  0.46674606,  0.48387389,  0.50104713,  0.51824446,\n",
       "        0.53544455,  0.55262604,  0.5697676 ,  0.58684795,  0.60384587,\n",
       "        0.62074025,  0.63751007,  0.65413451,  0.67059287,  0.68686469,\n",
       "        0.70292971,  0.71876792,  0.73435962,  0.74968535,  0.76472602,\n",
       "        0.77946287,  0.79387749,  0.80795189,  0.82166849,  0.83501012,\n",
       "        0.84796009,  0.86050219,  0.87262069,  0.88430038,  0.89552659,\n",
       "        0.9062852 ,  0.91656267,  0.92634604,  0.93562294,  0.94438165,\n",
       "        0.95261104,  0.96030067,  0.96744074,  0.97402211,  0.98003635,\n",
       "        0.98547569,  0.9903331 ,  0.99460223,  0.99827747,  1.00135393,\n",
       "        1.00382745,  1.00569462,  1.00695275,  1.00759992,  1.00763494,\n",
       "        1.00705738,  1.00586755,  1.00406654,  1.00165614,  0.99863893,\n",
       "        0.99501822,  0.99079804,  0.98598319,  0.98057917,  0.97459223,\n",
       "        0.96802931,  0.96089806,  0.95320684,  0.9449647 ,  0.93618135,\n",
       "        0.92686718,  0.91703321,  0.90669113,  0.89585323,  0.88453242,\n",
       "        0.8727422 ,  0.86049665,  0.84781041,  0.83469866,  0.82117711,\n",
       "        0.80726196,  0.79296992,  0.77831814,  0.76332422,  0.7480062 ,\n",
       "        0.7323825 ,  0.71647193,  0.70029363,  0.68386712,  0.66721218,\n",
       "        0.65034889,  0.6332976 ,  0.61607889,  0.59871354,  0.58122252,\n",
       "        0.56362696,  0.54594812,  0.52820736,  0.51042612,  0.49262592,\n",
       "        0.47482829,  0.45705474,  0.43932679,  0.42166589,  0.40409342,\n",
       "        0.38663066,  0.36929875,  0.35211868,  0.33511127,  0.31829711,\n",
       "        0.30169658,  0.28532979,  0.26921659,  0.2533765 ,  0.23782872,\n",
       "        0.22259211,  0.20768513,  0.19312588,  0.17893199,  0.16512069,\n",
       "        0.15170873,  0.13871238,  0.1261474 ,  0.11402904,  0.10237201,\n",
       "        0.09119044,  0.08049791,  0.0703074 ,  0.06063126,  0.05148124,\n",
       "        0.04286845,  0.03480335,  0.02729571,  0.02035467,  0.01398863,\n",
       "        0.00820533,  0.00301179, -0.00158568, -0.00558151, -0.00897084,\n",
       "       -0.01174955, -0.01391428, -0.0154624 , -0.01639202, -0.01670202])"
      ]
     },
     "execution_count": 41,
     "metadata": {},
     "output_type": "execute_result"
    }
   ],
   "source": [
    "x"
   ]
  },
  {
   "cell_type": "code",
   "execution_count": null,
   "id": "30ed33d8",
   "metadata": {},
   "outputs": [],
   "source": []
  },
  {
   "cell_type": "code",
   "execution_count": null,
   "id": "2047c900",
   "metadata": {},
   "outputs": [],
   "source": []
  },
  {
   "cell_type": "code",
   "execution_count": null,
   "id": "f1da67e2",
   "metadata": {},
   "outputs": [],
   "source": []
  },
  {
   "cell_type": "code",
   "execution_count": null,
   "id": "8d166fef",
   "metadata": {},
   "outputs": [],
   "source": []
  },
  {
   "cell_type": "code",
   "execution_count": null,
   "id": "fa128d13",
   "metadata": {},
   "outputs": [],
   "source": []
  },
  {
   "cell_type": "code",
   "execution_count": null,
   "id": "aa56cff6",
   "metadata": {},
   "outputs": [],
   "source": []
  },
  {
   "cell_type": "code",
   "execution_count": null,
   "id": "c85a398c",
   "metadata": {},
   "outputs": [],
   "source": []
  },
  {
   "cell_type": "code",
   "execution_count": 30,
   "id": "0513f600",
   "metadata": {},
   "outputs": [
    {
     "name": "stderr",
     "output_type": "stream",
     "text": [
      "<ipython-input-28-11fa2f66af25>:2: RuntimeWarning: invalid value encountered in sqrt\n",
      "  s = l + r - np.sqrt(l**2-r**2+np.sin(Phi*np.pi/180)**2-r*np.cos(Phi*np.pi/180))\n"
     ]
    },
    {
     "ename": "RuntimeError",
     "evalue": "The size of the array returned by func (1) does not match the size of y0 (2).",
     "output_type": "error",
     "traceback": [
      "\u001b[1;31m---------------------------------------------------------------------------\u001b[0m",
      "\u001b[1;31mRuntimeError\u001b[0m                              Traceback (most recent call last)",
      "\u001b[1;32m<ipython-input-30-c7f98c3e65b5>\u001b[0m in \u001b[0;36m<module>\u001b[1;34m\u001b[0m\n\u001b[1;32m----> 1\u001b[1;33m \u001b[0mresult\u001b[0m \u001b[1;33m=\u001b[0m \u001b[0modeint\u001b[0m\u001b[1;33m(\u001b[0m\u001b[0mCycle_displ\u001b[0m\u001b[1;33m,\u001b[0m \u001b[0mw0\u001b[0m\u001b[1;33m,\u001b[0m \u001b[0mPhi\u001b[0m\u001b[1;33m)\u001b[0m\u001b[1;33m\u001b[0m\u001b[1;33m\u001b[0m\u001b[0m\n\u001b[0m",
      "\u001b[1;32m~\\anaconda3\\envs\\main\\lib\\site-packages\\scipy\\integrate\\odepack.py\u001b[0m in \u001b[0;36modeint\u001b[1;34m(func, y0, t, args, Dfun, col_deriv, full_output, ml, mu, rtol, atol, tcrit, h0, hmax, hmin, ixpr, mxstep, mxhnil, mxordn, mxords, printmessg, tfirst)\u001b[0m\n\u001b[0;32m    239\u001b[0m     \u001b[0mt\u001b[0m \u001b[1;33m=\u001b[0m \u001b[0mcopy\u001b[0m\u001b[1;33m(\u001b[0m\u001b[0mt\u001b[0m\u001b[1;33m)\u001b[0m\u001b[1;33m\u001b[0m\u001b[1;33m\u001b[0m\u001b[0m\n\u001b[0;32m    240\u001b[0m     \u001b[0my0\u001b[0m \u001b[1;33m=\u001b[0m \u001b[0mcopy\u001b[0m\u001b[1;33m(\u001b[0m\u001b[0my0\u001b[0m\u001b[1;33m)\u001b[0m\u001b[1;33m\u001b[0m\u001b[1;33m\u001b[0m\u001b[0m\n\u001b[1;32m--> 241\u001b[1;33m     output = _odepack.odeint(func, y0, t, args, Dfun, col_deriv, ml, mu,\n\u001b[0m\u001b[0;32m    242\u001b[0m                              \u001b[0mfull_output\u001b[0m\u001b[1;33m,\u001b[0m \u001b[0mrtol\u001b[0m\u001b[1;33m,\u001b[0m \u001b[0matol\u001b[0m\u001b[1;33m,\u001b[0m \u001b[0mtcrit\u001b[0m\u001b[1;33m,\u001b[0m \u001b[0mh0\u001b[0m\u001b[1;33m,\u001b[0m \u001b[0mhmax\u001b[0m\u001b[1;33m,\u001b[0m \u001b[0mhmin\u001b[0m\u001b[1;33m,\u001b[0m\u001b[1;33m\u001b[0m\u001b[1;33m\u001b[0m\u001b[0m\n\u001b[0;32m    243\u001b[0m                              \u001b[0mixpr\u001b[0m\u001b[1;33m,\u001b[0m \u001b[0mmxstep\u001b[0m\u001b[1;33m,\u001b[0m \u001b[0mmxhnil\u001b[0m\u001b[1;33m,\u001b[0m \u001b[0mmxordn\u001b[0m\u001b[1;33m,\u001b[0m \u001b[0mmxords\u001b[0m\u001b[1;33m,\u001b[0m\u001b[1;33m\u001b[0m\u001b[1;33m\u001b[0m\u001b[0m\n",
      "\u001b[1;31mRuntimeError\u001b[0m: The size of the array returned by func (1) does not match the size of y0 (2)."
     ]
    }
   ],
   "source": [
    "result = odeint(Cycle_displ, w0, Phi)"
   ]
  },
  {
   "cell_type": "code",
   "execution_count": null,
   "id": "04f605be",
   "metadata": {},
   "outputs": [],
   "source": [
    "result"
   ]
  },
  {
   "cell_type": "code",
   "execution_count": null,
   "id": "faf693f3",
   "metadata": {},
   "outputs": [],
   "source": []
  },
  {
   "cell_type": "code",
   "execution_count": 6,
   "id": "f05ebd86",
   "metadata": {},
   "outputs": [],
   "source": [
    "#Piston Displacement"
   ]
  },
  {
   "cell_type": "code",
   "execution_count": 7,
   "id": "68320208",
   "metadata": {},
   "outputs": [],
   "source": [
    "#Piston Velocity"
   ]
  },
  {
   "cell_type": "code",
   "execution_count": null,
   "id": "102b69c4",
   "metadata": {},
   "outputs": [],
   "source": [
    "#Piston Acceleration"
   ]
  },
  {
   "cell_type": "code",
   "execution_count": null,
   "id": "c937a6ad",
   "metadata": {},
   "outputs": [],
   "source": []
  }
 ],
 "metadata": {
  "kernelspec": {
   "display_name": "Python 3",
   "language": "python",
   "name": "python3"
  },
  "language_info": {
   "codemirror_mode": {
    "name": "ipython",
    "version": 3
   },
   "file_extension": ".py",
   "mimetype": "text/x-python",
   "name": "python",
   "nbconvert_exporter": "python",
   "pygments_lexer": "ipython3",
   "version": "3.8.8"
  }
 },
 "nbformat": 4,
 "nbformat_minor": 5
}

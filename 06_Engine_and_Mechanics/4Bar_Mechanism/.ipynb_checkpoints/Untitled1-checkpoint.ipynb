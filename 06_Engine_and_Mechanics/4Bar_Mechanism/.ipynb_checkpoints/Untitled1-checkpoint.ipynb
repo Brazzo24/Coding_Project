{
 "cells": [
  {
   "cell_type": "code",
   "execution_count": 1,
   "id": "45a98f72",
   "metadata": {},
   "outputs": [],
   "source": [
    "import time\n",
    "from tkinter import Tk, Canvas"
   ]
  },
  {
   "cell_type": "code",
   "execution_count": null,
   "id": "0b643780",
   "metadata": {},
   "outputs": [],
   "source": [
    "tk = Tk()\n",
    "tk.title(\"Hello Motion\")\n",
    "\n",
    "canvas = Canvas(tk, width=600, height=600)\n",
    "canvas.grid(row=0, column=0)\n",
    "\n",
    "frame_rate_s = 1.0 / 30.0\n",
    "frame_count = 1\n",
    "max_frames = 100\n",
    "\n",
    "def update_system():\n",
    "    pass\n",
    "\n",
    "def redraw():\n",
    "    pass\n",
    "\n",
    "while frame_count <= max_frames:\n",
    "    update_start = time.time()\n",
    "update_system()\n",
    "    redraw()\n",
    "    tk.update()\n",
    "    update_end = time.time()\n",
    "    \n",
    "    elapsed_s = update_end - update_start\n",
    "    remaining_time_s = frame_rate_s - elapsed_s\n",
    "    \n",
    "    if remaining_time_s > 0:\n",
    "        time.sleep(remaining_time_s)\n",
    "    frame_count += 1\n",
    "\n",
    "tk.mainloop()"
   ]
  }
 ],
 "metadata": {
  "kernelspec": {
   "display_name": "Python 3",
   "language": "python",
   "name": "python3"
  },
  "language_info": {
   "codemirror_mode": {
    "name": "ipython",
    "version": 3
   },
   "file_extension": ".py",
   "mimetype": "text/x-python",
   "name": "python",
   "nbconvert_exporter": "python",
   "pygments_lexer": "ipython3",
   "version": "3.8.8"
  }
 },
 "nbformat": 4,
 "nbformat_minor": 5
}

{
 "cells": [
  {
   "cell_type": "code",
   "execution_count": 7,
   "id": "79b940ba",
   "metadata": {},
   "outputs": [],
   "source": [
    "import numpy as np\n",
    "from matplotlib import pyplot as plt\n",
    "import cmath"
   ]
  },
  {
   "cell_type": "code",
   "execution_count": null,
   "id": "5eb9ce29",
   "metadata": {},
   "outputs": [],
   "source": []
  },
  {
   "cell_type": "code",
   "execution_count": 2,
   "id": "3a28e417",
   "metadata": {},
   "outputs": [],
   "source": [
    "#define parameter for the 4 bar linkage mechanism\n",
    "l1 = 1 #lnegth of the first bar\n",
    "l2 = 2 #length of the 2nd bar\n",
    "l3 = 3\n",
    "l4 = 4\n",
    "assert(l2 + l3 >= l4 + l1)"
   ]
  },
  {
   "cell_type": "code",
   "execution_count": 3,
   "id": "ae7f76ab",
   "metadata": {},
   "outputs": [],
   "source": [
    "#calculate stuff\n"
   ]
  },
  {
   "cell_type": "code",
   "execution_count": 4,
   "id": "4a0a0874",
   "metadata": {},
   "outputs": [],
   "source": [
    "#equations of motion"
   ]
  },
  {
   "cell_type": "code",
   "execution_count": 5,
   "id": "c59b9a79",
   "metadata": {},
   "outputs": [],
   "source": [
    "#store results"
   ]
  },
  {
   "cell_type": "code",
   "execution_count": 6,
   "id": "c95f69cf",
   "metadata": {},
   "outputs": [],
   "source": [
    "#plot results"
   ]
  },
  {
   "cell_type": "code",
   "execution_count": null,
   "id": "7b081dc0",
   "metadata": {},
   "outputs": [],
   "source": []
  }
 ],
 "metadata": {
  "kernelspec": {
   "display_name": "Python 3",
   "language": "python",
   "name": "python3"
  },
  "language_info": {
   "codemirror_mode": {
    "name": "ipython",
    "version": 3
   },
   "file_extension": ".py",
   "mimetype": "text/x-python",
   "name": "python",
   "nbconvert_exporter": "python",
   "pygments_lexer": "ipython3",
   "version": "3.8.8"
  }
 },
 "nbformat": 4,
 "nbformat_minor": 5
}

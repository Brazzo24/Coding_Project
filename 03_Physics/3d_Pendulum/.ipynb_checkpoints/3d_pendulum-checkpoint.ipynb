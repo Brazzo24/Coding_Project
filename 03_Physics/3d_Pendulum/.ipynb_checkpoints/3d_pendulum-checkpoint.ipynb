{
 "cells": [
  {
   "cell_type": "code",
   "execution_count": 1,
   "id": "3ac43f0c",
   "metadata": {},
   "outputs": [],
   "source": [
    "import numpy as np\n",
    "import sympy as smp\n",
    "from scipy.integrate import odeint\n",
    "import matplotlib.pyplot as plt"
   ]
  },
  {
   "cell_type": "code",
   "execution_count": 2,
   "id": "0ef6d30e",
   "metadata": {},
   "outputs": [],
   "source": [
    "t, g = smp.symbols('t g')\n",
    "m1, m2 = smp.symbols('m1 m2')\n",
    "L1, L2 = smp.symbols('L1 L2')"
   ]
  },
  {
   "cell_type": "code",
   "execution_count": 3,
   "id": "c0b7e51f",
   "metadata": {},
   "outputs": [],
   "source": [
    "the1, the2, phi1, phi2 = smp.symbols(r'\\theta_1 \\theta_2 \\phi_1 \\phi_2', cls=smp.Function)"
   ]
  },
  {
   "cell_type": "code",
   "execution_count": 4,
   "id": "5357741a",
   "metadata": {},
   "outputs": [],
   "source": [
    "the1 = the1(t)\n",
    "the2 = the2(t)\n",
    "phi1 = phi1(t)\n",
    "phi2 = phi2(t)"
   ]
  },
  {
   "cell_type": "code",
   "execution_count": 5,
   "id": "45fdc27c",
   "metadata": {},
   "outputs": [],
   "source": [
    "the1_d = smp.diff(the1, t)\n",
    "the2_d = smp.diff(the2, t)\n",
    "phi1_d = smp.diff(phi1, t)\n",
    "phi2_d = smp.diff(phi2, t)\n",
    "the1_dd = smp.diff(the1_d, t)\n",
    "the2_dd = smp.diff(the2_d, t)\n",
    "phi1_dd = smp.diff(phi1_d, t)\n",
    "phi2_dd = smp.diff(phi2_d, t)"
   ]
  },
  {
   "cell_type": "code",
   "execution_count": 6,
   "id": "98aeea0c",
   "metadata": {},
   "outputs": [],
   "source": [
    "x1 = L1*smp.sin(the1)*smp.cos(phi1)\n",
    "y1 = L1*smp.sin(the1)*smp.sin(phi1)\n",
    "z1 = -L1*smp.cos(the1)\n",
    "x2 = x1 + L2*smp.sin(the2)*smp.cos(phi2)\n",
    "y2 = y1 + L2*smp.sin(the2)*smp.sin(phi2)\n",
    "z2 = z1 - L2*smp.cos(the2)"
   ]
  },
  {
   "cell_type": "code",
   "execution_count": 7,
   "id": "9c07da72",
   "metadata": {},
   "outputs": [],
   "source": [
    "x1_f = smp.lambdify((the1, the2, phi1, phi2, L1, L2), x1)\n",
    "y1_f = smp.lambdify((the1, the2, phi1, phi2, L1, L2), y1)\n",
    "z1_f = smp.lambdify((the1, the2, phi1, phi2, L1, L2), z1)\n",
    "x2_f = smp.lambdify((the1, the2, phi1, phi2, L1, L2), x2)\n",
    "y2_f = smp.lambdify((the1, the2, phi1, phi2, L1, L2), y2)\n",
    "z2_f = smp.lambdify((the1, the2, phi1, phi2, L1, L2), z2)"
   ]
  },
  {
   "cell_type": "code",
   "execution_count": 8,
   "id": "0229a2b8",
   "metadata": {},
   "outputs": [],
   "source": [
    "#kinetic\n",
    "T1 = 1/2 * m1 * (smp.diff(x1, t)**2 + smp.diff(y1, t)**2 + smp.diff(z1, t)**2)\n",
    "T2 = 1/2 * m2 * (smp.diff(x2, t)**2 + smp.diff(y2, t)**2 + smp.diff(z2, t)**2)\n",
    "T = T1 + T2\n",
    "\n",
    "#Potential Energy\n",
    "V1 = m1*g*z1\n",
    "V2 = m2*g*z2\n",
    "V = V1+V2\n",
    "\n",
    "#Lagrangian\n",
    "L = T - V"
   ]
  },
  {
   "cell_type": "code",
   "execution_count": 9,
   "id": "9f2b8ae7",
   "metadata": {},
   "outputs": [],
   "source": [
    "LE1 = smp.diff(L, the1) - smp.diff(smp.diff(L, the1_d), t).simplify()\n",
    "LE2 = smp.diff(L, the2) - smp.diff(smp.diff(L, the2_d), t).simplify()\n",
    "LE3 = smp.diff(L, phi1) - smp.diff(smp.diff(L, phi1_d), t).simplify()\n",
    "LE4 = smp.diff(L, phi2) - smp.diff(smp.diff(L, phi2_d), t).simplify()"
   ]
  },
  {
   "cell_type": "code",
   "execution_count": 10,
   "id": "11085775",
   "metadata": {},
   "outputs": [
    {
     "data": {
      "text/latex": [
       "$\\displaystyle \\frac{d^{2}}{d t^{2}} \\theta_{1}{\\left(t \\right)}$"
      ],
      "text/plain": [
       "Derivative(\\theta_1(t), (t, 2))"
      ]
     },
     "execution_count": 10,
     "metadata": {},
     "output_type": "execute_result"
    }
   ],
   "source": [
    "the1_dd"
   ]
  },
  {
   "cell_type": "code",
   "execution_count": 11,
   "id": "5abd7f95",
   "metadata": {},
   "outputs": [],
   "source": [
    "sols = smp.solve((LE1, LE2, LE3, LE4), (the1_dd, the2_dd, phi1_dd, phi2_dd), simplify=False, rational=False)"
   ]
  },
  {
   "cell_type": "code",
   "execution_count": 13,
   "id": "e348fb3c",
   "metadata": {},
   "outputs": [],
   "source": [
    "do1dt_f = smp.lambdify((t, g, m1, m2, L1, L2, the1, the2, the1_d, the2_d, phi1, phi2, phi1_d, phi2_d), sols[the1_dd])\n",
    "do2dt_f = smp.lambdify((t, g, m1, m2, L1, L2, the1, the2, the1_d, the2_d, phi1, phi2, phi1_d, phi2_d), sols[the2_dd])\n",
    "dthe1dt_f = smp.lambdify(the1_d, the1_d)\n",
    "dthe2dt_f = smp.lambdify(the2_d, the2_d)\n",
    "\n",
    "dw1dt_f = smp.lambdify((t, g, m1, m2, L1, L2, the1, the2, the1_d, the2_d, phi1, phi2, phi1_d, phi2_d), sols[phi1_dd])\n",
    "dw2dt_f = smp.lambdify((t, g, m1, m2, L1, L2, the1, the2, the1_d, the2_d, phi1, phi2, phi1_d, phi2_d), sols[phi2_dd])\n",
    "dphi1dt_f = smp.lambdify(phi1_d, phi1_d)\n",
    "dphi2dt_f = smp.lambdify(phi2_d, phi2_d)"
   ]
  },
  {
   "cell_type": "code",
   "execution_count": 19,
   "id": "48b809f5",
   "metadata": {},
   "outputs": [],
   "source": [
    "def dSdt(S, t, g, m1, m2, L1, L2):\n",
    "    the1, the2, phi1, phi2, o1, o2, w1, w2 = S\n",
    "    return [\n",
    "        dthe1dt_f(o1),\n",
    "        dthe2dt_f(o2),\n",
    "        dphi1dt_f(w1),\n",
    "        dphi2dt_f(w2),\n",
    "        do1dt_f(t, g, m1, m2, L1, L2, the1, the2, o1, o2, phi1, phi2, w1, w2),\n",
    "        do2dt_f(t, g, m1, m2, L1, L2, the1, the2, o1, o2, phi1, phi2, w1, w2),\n",
    "        dw1dt_f(t, g, m1, m2, L1, L2, the1, the2, o1, o2, phi1, phi2, w1, w2),\n",
    "        dw2dt_f(t, g, m1, m2, L1, L2, the1, the2, o1, o2, phi1, phi2, w1, w2),\n",
    "    ]"
   ]
  },
  {
   "cell_type": "code",
   "execution_count": 22,
   "id": "9d96f5b7",
   "metadata": {},
   "outputs": [],
   "source": [
    "t = np.linspace(0, 40, 1001)\n",
    "g = 9.81\n",
    "m1 = 2\n",
    "m2 = 1\n",
    "L1 = 2\n",
    "L2 = 1\n",
    "ans = odeint(dSdt, y0=[np.pi/3, np.pi/3, 0, -np.pi, 3, 4, -3, -4], t=t, args=(g, m1, m2, L1, L2))"
   ]
  },
  {
   "cell_type": "code",
   "execution_count": 23,
   "id": "acf87603",
   "metadata": {},
   "outputs": [
    {
     "data": {
      "text/plain": [
       "array([[   1.04719755,    1.16583784,    1.28192219, ...,    0.47528255,\n",
       "           0.5263446 ,    0.58014501],\n",
       "       [   1.04719755,    1.18954298,    1.30050196, ...,    1.74237645,\n",
       "           1.22746685,    0.66198651],\n",
       "       [   0.        ,   -0.11277352,   -0.21472167, ..., -111.15864706,\n",
       "        -111.35948435, -111.43719775],\n",
       "       ...,\n",
       "       [   4.        ,    3.13947062,    2.43974477, ...,  -12.3149275 ,\n",
       "         -13.48032097,  -14.68887068],\n",
       "       [  -3.        ,   -2.66332621,   -2.45167399, ...,   -6.6382618 ,\n",
       "          -3.3935356 ,   -0.64355166],\n",
       "       [  -4.        ,   -3.50601741,   -3.32130216, ...,   -0.98155776,\n",
       "          -1.78772936,   -6.7990101 ]])"
      ]
     },
     "execution_count": 23,
     "metadata": {},
     "output_type": "execute_result"
    }
   ],
   "source": [
    "ans.T"
   ]
  },
  {
   "cell_type": "code",
   "execution_count": 24,
   "id": "c350df98",
   "metadata": {},
   "outputs": [],
   "source": [
    "the1 = ans.T[0]\n",
    "the2 = ans.T[1]"
   ]
  },
  {
   "cell_type": "code",
   "execution_count": 26,
   "id": "00d3f926",
   "metadata": {},
   "outputs": [],
   "source": [
    "def get_pos(the1, the2, phi1, phi2, L1, L2):\n",
    "    return (x1_f(the1, the2, phi1, phi2, L1, L2),\n",
    "            y1_f(the1, the2, phi1, phi2, L1, L2),\n",
    "            z1_f(the1, the2, phi1, phi2, L1, L2),\n",
    "            x2_f(the1, the2, phi1, phi2, L1, L2),\n",
    "            y2_f(the1, the2, phi1, phi2, L1, L2),\n",
    "            z2_f(the1, the2, phi1, phi2, L1, L2))\n",
    "\n",
    "x1, y1, z1, x2, y2, z2 = get_pos(ans.T[0],ans.T[1],ans.T[2],ans.T[3], L1, L2)\n",
    "np.save('../3d_Pendulum/Data', np.array([x1,y1,z1,x2,y2,z2]))"
   ]
  },
  {
   "cell_type": "code",
   "execution_count": 28,
   "id": "5641616b",
   "metadata": {},
   "outputs": [
    {
     "data": {
      "image/png": "[encoded data removed]",
      "text/plain": [
       "<Figure size 432x288 with 1 Axes>"
      ]
     },
     "metadata": {
      "needs_background": "light"
     },
     "output_type": "display_data"
    }
   ],
   "source": [
    "plt.plot(t, y1)\n",
    "plt.show()"
   ]
  }
 ],
 "metadata": {
  "kernelspec": {
   "display_name": "Python 3",
   "language": "python",
   "name": "python3"
  },
  "language_info": {
   "codemirror_mode": {
    "name": "ipython",
    "version": 3
   },
   "file_extension": ".py",
   "mimetype": "text/x-python",
   "name": "python",
   "nbconvert_exporter": "python",
   "pygments_lexer": "ipython3",
   "version": "3.8.8"
  }
 },
 "nbformat": 4,
 "nbformat_minor": 5
}

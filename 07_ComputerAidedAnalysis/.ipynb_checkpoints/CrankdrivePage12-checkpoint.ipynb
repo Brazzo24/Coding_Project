{
 "cells": [
  {
   "cell_type": "code",
   "execution_count": 4,
   "id": "a5bfd4ff",
   "metadata": {},
   "outputs": [],
   "source": [
    "import sympy as smp\n",
    "import numpy as np\n",
    "import matplotlib.pyplot as plt\n",
    "from scipy.integrate import odeint"
   ]
  },
  {
   "cell_type": "code",
   "execution_count": 31,
   "id": "723f68ac",
   "metadata": {},
   "outputs": [],
   "source": [
    "#page 12 primer on crankdrive to get warm using sympy and numpy\n",
    "x, y = smp.symbols('x y')\n",
    "t = smp.symbols('t')\n",
    "r, l, l_1 = smp.symbols('r l l_1')\n",
    "theta, phi = smp.symbols(r'\\theta \\phi', cls=smp.Function)"
   ]
  },
  {
   "cell_type": "code",
   "execution_count": 32,
   "id": "dcf52db3",
   "metadata": {},
   "outputs": [],
   "source": [
    "theta = theta(t)\n",
    "phi = phi(t)"
   ]
  },
  {
   "cell_type": "code",
   "execution_count": 33,
   "id": "880ebd85",
   "metadata": {},
   "outputs": [
    {
     "data": {
      "text/latex": [
       "$\\displaystyle \\phi{\\left(t \\right)}$"
      ],
      "text/plain": [
       "\\phi(t)"
      ]
     },
     "execution_count": 33,
     "metadata": {},
     "output_type": "execute_result"
    }
   ],
   "source": [
    "phi"
   ]
  },
  {
   "cell_type": "code",
   "execution_count": 34,
   "id": "c125fd81",
   "metadata": {},
   "outputs": [],
   "source": [
    "x_d = smp.diff(x, t)\n",
    "x_dd = smp.diff(x_d, t)\n",
    "\n",
    "y_d = smp.diff(y, t)\n",
    "y_dd = smp.diff(y_d, t)\n",
    "\n",
    "theta_d = smp.diff(theta, t)\n",
    "theta_dd = smp.diff(theta_d, t)\n",
    "\n",
    "phi_d = smp.diff(phi, t)\n",
    "phi_dd = smp.diff(phi_d, t)"
   ]
  },
  {
   "cell_type": "code",
   "execution_count": 35,
   "id": "02d7be2b",
   "metadata": {},
   "outputs": [],
   "source": [
    "phi = smp.asin(r/l*smp.sin(theta))"
   ]
  },
  {
   "cell_type": "code",
   "execution_count": 36,
   "id": "a5fd392f",
   "metadata": {},
   "outputs": [
    {
     "data": {
      "text/latex": [
       "$\\displaystyle \\operatorname{asin}{\\left(\\frac{r \\sin{\\left(\\theta{\\left(t \\right)} \\right)}}{l} \\right)}$"
      ],
      "text/plain": [
       "asin(r*sin(\\theta(t))/l)"
      ]
     },
     "execution_count": 36,
     "metadata": {},
     "output_type": "execute_result"
    }
   ],
   "source": [
    "phi"
   ]
  },
  {
   "cell_type": "code",
   "execution_count": 42,
   "id": "e9c97128",
   "metadata": {},
   "outputs": [],
   "source": [
    "x_2 = r*smp.cos(theta)+(l_1**2-(r**2*l_1**2/l**2)*smp.sin(theta)*smp.sin(theta))**(1/2)"
   ]
  },
  {
   "cell_type": "code",
   "execution_count": 43,
   "id": "1e2aa017",
   "metadata": {},
   "outputs": [
    {
     "data": {
      "text/latex": [
       "$\\displaystyle r \\cos{\\left(\\theta{\\left(t \\right)} \\right)} + \\left(l_{1}^{2} - \\frac{l_{1}^{2} r^{2} \\sin^{2}{\\left(\\theta{\\left(t \\right)} \\right)}}{l^{2}}\\right)^{0.5}$"
      ],
      "text/plain": [
       "r*cos(\\theta(t)) + (l_1**2 - l_1**2*r**2*sin(\\theta(t))**2/l**2)**0.5"
      ]
     },
     "execution_count": 43,
     "metadata": {},
     "output_type": "execute_result"
    }
   ],
   "source": [
    "x_2"
   ]
  },
  {
   "cell_type": "code",
   "execution_count": 44,
   "id": "94a237b5",
   "metadata": {},
   "outputs": [],
   "source": [
    "y_2 = r*(l-l_1)/l*smp.sin(theta)"
   ]
  },
  {
   "cell_type": "code",
   "execution_count": 45,
   "id": "39980db3",
   "metadata": {},
   "outputs": [
    {
     "data": {
      "text/latex": [
       "$\\displaystyle \\frac{r \\left(l - l_{1}\\right) \\sin{\\left(\\theta{\\left(t \\right)} \\right)}}{l}$"
      ],
      "text/plain": [
       "r*(l - l_1)*sin(\\theta(t))/l"
      ]
     },
     "execution_count": 45,
     "metadata": {},
     "output_type": "execute_result"
    }
   ],
   "source": [
    "y_2"
   ]
  },
  {
   "cell_type": "code",
   "execution_count": 46,
   "id": "3392d027",
   "metadata": {},
   "outputs": [],
   "source": [
    "phi_f = smp.lambdify((r, l, theta), phi) #this turns the symbolic expression for phi to a numerical function\n"
   ]
  },
  {
   "cell_type": "code",
   "execution_count": 54,
   "id": "9dfdab91",
   "metadata": {},
   "outputs": [
    {
     "data": {
      "text/plain": [
       "0.07061868527792522"
      ]
     },
     "execution_count": 54,
     "metadata": {},
     "output_type": "execute_result"
    }
   ],
   "source": [
    "phi_f(1,2,3) #giving this function values for r, l and theta"
   ]
  },
  {
   "cell_type": "code",
   "execution_count": 53,
   "id": "8196a7ff",
   "metadata": {},
   "outputs": [
    {
     "data": {
      "text/plain": [
       "0.07061868527792522"
      ]
     },
     "execution_count": 53,
     "metadata": {},
     "output_type": "execute_result"
    }
   ],
   "source": [
    "#in my \"normal\" way of doing this, the symbolic stuff is done by hand and then transcribed to Code by me\n",
    "#like this, I do the arranging of equations in stuff by using the computer\n",
    "#normally, I would write the equation for phi numerically like this:\n",
    "r_n =1\n",
    "l_n =2\n",
    "theta_n=3\n",
    "\n",
    "phi_num = np.arcsin(r_n*np.sin(theta_n)/l_n)\n",
    "phi_num"
   ]
  },
  {
   "cell_type": "code",
   "execution_count": null,
   "id": "33aec7ce",
   "metadata": {},
   "outputs": [],
   "source": []
  }
 ],
 "metadata": {
  "kernelspec": {
   "display_name": "Python 3",
   "language": "python",
   "name": "python3"
  },
  "language_info": {
   "codemirror_mode": {
    "name": "ipython",
    "version": 3
   },
   "file_extension": ".py",
   "mimetype": "text/x-python",
   "name": "python",
   "nbconvert_exporter": "python",
   "pygments_lexer": "ipython3",
   "version": "3.8.8"
  }
 },
 "nbformat": 4,
 "nbformat_minor": 5
}

{
 "cells": [
  {
   "cell_type": "code",
   "execution_count": 4,
   "id": "9913af7e",
   "metadata": {},
   "outputs": [],
   "source": [
    "import sympy as smp\n",
    "import numpy as np\n",
    "import matplotlib.pyplot as plt\n",
    "from scipy.integrate import odeint"
   ]
  },
  {
   "cell_type": "code",
   "execution_count": 11,
   "id": "2a37f9b6",
   "metadata": {},
   "outputs": [],
   "source": [
    "#page 12 primer on crankdrive to get warm using sympy and numpy\n",
    "x, y = smp.symbols('x y')\n",
    "t = smp.symbols('t')\n",
    "theta, phi = smp.symbols(r'\\theta \\phi', cls=smp.Function)"
   ]
  },
  {
   "cell_type": "code",
   "execution_count": 12,
   "id": "9784661c",
   "metadata": {},
   "outputs": [
    {
     "data": {
      "text/plain": [
       "\\phi"
      ]
     },
     "execution_count": 12,
     "metadata": {},
     "output_type": "execute_result"
    }
   ],
   "source": [
    "phi"
   ]
  },
  {
   "cell_type": "code",
   "execution_count": 13,
   "id": "0a562a74",
   "metadata": {},
   "outputs": [],
   "source": [
    "theta = theta(t)\n",
    "phi = phi(t)"
   ]
  },
  {
   "cell_type": "code",
   "execution_count": null,
   "id": "a5f80510",
   "metadata": {},
   "outputs": [],
   "source": [
    "theta"
   ]
  }
 ],
 "metadata": {
  "kernelspec": {
   "display_name": "Python 3",
   "language": "python",
   "name": "python3"
  },
  "language_info": {
   "codemirror_mode": {
    "name": "ipython",
    "version": 3
   },
   "file_extension": ".py",
   "mimetype": "text/x-python",
   "name": "python",
   "nbconvert_exporter": "python",
   "pygments_lexer": "ipython3",
   "version": "3.8.8"
  }
 },
 "nbformat": 4,
 "nbformat_minor": 5
}
